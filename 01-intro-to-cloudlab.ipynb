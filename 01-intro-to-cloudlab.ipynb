{
 "cells": [
  {
   "cell_type": "markdown",
   "metadata": {
    "slideshow": {
     "slide_type": "slide"
    }
   },
   "source": [
    "## <center> Introduction to CloudLab </center>\n",
    "\n",
    "#### <center> Linh B. Ngo </center>"
   ]
  },
  {
   "cell_type": "markdown",
   "metadata": {
    "slideshow": {
     "slide_type": "slide"
    }
   },
   "source": [
    "### What is CloudLab?\n",
    "\n",
    "- Experimental testbed for future computing research\n",
    "\n",
    "- Allow researchers control to the bare metal\n",
    "\n",
    "- Diverse, distributed resources at large scale\n",
    "\n",
    "- Allow repeatable and scientific design of experiments"
   ]
  },
  {
   "cell_type": "markdown",
   "metadata": {
    "slideshow": {
     "slide_type": "slide"
    }
   },
   "source": [
    "<center> <img src=\"pictures/03/architecture.png\" width=\"700\"/>"
   ]
  },
  {
   "cell_type": "markdown",
   "metadata": {
    "slideshow": {
     "slide_type": "slide"
    }
   },
   "source": [
    "### What is GENI?\n",
    "- Global Environment for Networking Innovation\n",
    "- \"Combining heterogeneous resource types, each virtualized along one or more suitable dimensions, to produce a single platform for network science researchers\"\n",
    "- Key components:\n",
    "    - GENI racks: virtualized computation and storage resources\n",
    "    - Software-defined networks (SDNs): virtualized, programmable network resources\n",
    "    - WiMAX: virtualized cellular wireless communication\n",
    "    \n",
    "*Berman, M., Chase, J.S., Landweber, L., Nakao, A., Ott, M., Raychaudhuri, D., Ricci, R. and Seskar, I., 2014. GENI: A federated testbed for innovative network experiments. Computer Networks, 61, pp.5-23.*"
   ]
  },
  {
   "cell_type": "markdown",
   "metadata": {
    "slideshow": {
     "slide_type": "slide"
    }
   },
   "source": [
    "### Key experimental concepts:\n",
    "- Scliceability: the ability to support virtualization while maintaining some degree of isolation for simultaneaous experiments\n",
    "- Deep programmability: the ability to influence the behavior of computing, storage, routing, and forwarding components deep inside the network, not just at or near the network edge."
   ]
  },
  {
   "cell_type": "markdown",
   "metadata": {
    "slideshow": {
     "slide_type": "slide"
    }
   },
   "source": [
    "<center> <img src=\"pictures/03/cloudlab-hardware.png\" width=\"700\"/>"
   ]
  },
  {
   "cell_type": "markdown",
   "metadata": {
    "slideshow": {
     "slide_type": "slide"
    }
   },
   "source": [
    "### Utah/HP: Low-power ARM64 (785 nodes)\n",
    "\n",
    "- 315 m400: 1X 8-core ARMv8 at 2.4GHz, 64GB RAM, 120GB flash\n",
    "- 270 m510: 1X 8-core Intel Xeon D-1548 at 2.0 GHz, 64GB RAM, 256 GB flash\n",
    "- 200 xl170: 1X 10-core Intel E5-2640v4 at 2.4 Ghz, 64 GB RAM, 480 GB SSD"
   ]
  },
  {
   "cell_type": "markdown",
   "metadata": {
    "slideshow": {
     "slide_type": "slide"
    }
   },
   "source": [
    "### Suitable for experiments that:\n",
    "\n",
    "- explore power/performance tradeoff\n",
    "- want instrumentation of power and temperature\n",
    "- want large numbers of nodes and cores\n",
    "- need bare-metal control over switches\n",
    "- want tight ARM64 platform integration\n",
    "- ..."
   ]
  },
  {
   "cell_type": "markdown",
   "metadata": {
    "slideshow": {
     "slide_type": "slide"
    }
   },
   "source": [
    "### Wisconsin/Cisco (530 nodes)\n",
    "\n",
    "- 90 c220g1: 2X 8-core Intel Haswell at 2.4GHz, 128GB RAM, 1X 480GB SDD, 2X 1.2TB HDD\n",
    "- 10 c240g1: 2X 8-core Intel Haswell at 2.4GHz, 128GB RAM, 1X 480GB SDD, 1X 1TB HDD, 12X 3TB HDD\n",
    "- 163 c220g2: 2X 10-core Intel Haswell at 2.6GHz, 160GB RAM, 1X 480GB SDD, 2X 1.2TB HDD\n",
    "- 7 c240g2: 2X Intel Haswell 10-core at 2.6GHz, 160GB RAM, 2X 480GB SDD, 12X 3TB HDD\n",
    "- 224 c220g5: 2X 10-core Intel Skylake at 2.20GHz, 192GB RAM, 1TB HDD\n",
    "- 32 c240g5: 2X 10-core Intel Skylake at 2.20GHz, 192GB RAM, 1TB HDD, 1 NVIDIA P100 GPU\n",
    "- 4 c4130: 2X 8-core Intel Broadwell at 3.20GHz, 128GB RAM, 2X 960GB HDD, 4 NVIDIA V100 GPU"
   ]
  },
  {
   "cell_type": "markdown",
   "metadata": {
    "slideshow": {
     "slide_type": "slide"
    }
   },
   "source": [
    "### Suitable for experiments that:\n",
    "\n",
    "- want large number of nodes/cores, and bare metal control over nodes/switches\n",
    "- want network I/O performance, intra-cloud routing, and transport\n",
    "- network virtualization\n",
    "- in-memory big data frameworks\n",
    "- cloud-scale resource management and scheduling\n",
    "- ..."
   ]
  },
  {
   "cell_type": "markdown",
   "metadata": {
    "slideshow": {
     "slide_type": "slide"
    }
   },
   "source": [
    "### Clemson/Dell (256 nodes)\n",
    "\n",
    "- 96 c8220: 2X 10-core Intel Ivy Bridge at 2.2GHz, 256GB RAM, 2X 1TB HDD\n",
    "- 4 c8220x: 2X 10-core Intel Ivy Bridge at 2.2GHz, 256GB RAM, 8X 1TB HDD, 12X 4TB HDD\n",
    "- 84 c6420: 2X 14-core Intel Haswell at 2.0GHz, 256GB RAM, 2X 1TB HDD\n",
    "- 2 c4130: 2X 12-core Intel Haswell at 2.5GHz, 256GB RAM, 2X 1TB HDD, 2 NVIDIA K40m GPU\n",
    "- 2 dss7500: 2X 6-core Intel Haswell at 2.4GHZ, 128GN RAM, 2X 126GB SSD, 45X 6TB HDD\n",
    "- 72 c6420: 2X 16-core Intel Skylake at 2.6GHZ, 386GB RAM, 2X 1TB HDD"
   ]
  },
  {
   "cell_type": "markdown",
   "metadata": {
    "slideshow": {
     "slide_type": "slide"
    }
   },
   "source": [
    "### Suitable for experiments that:\n",
    "\n",
    "- need large per-core memory\n",
    "- want to experiment with IB and/or GbE networks\n",
    "- need bare-metal control over switches"
   ]
  },
  {
   "cell_type": "markdown",
   "metadata": {
    "slideshow": {
     "slide_type": "slide"
    }
   },
   "source": [
    "### Why do we want CloudLab\n",
    "\n",
    "- In CSC 496, we will break things\n",
    "- We will have access to another national computing environment (XSEDE), which was designed for research computing. We can't break things on XSEDE.\n",
    "- We can break things on CloudLab (within the context of the experiment, as root account)"
   ]
  },
  {
   "cell_type": "markdown",
   "metadata": {
    "slideshow": {
     "slide_type": "slide"
    }
   },
   "source": [
    "### Set up SSH Key on CloudLab\n",
    "\n",
    "- Generate a passwordless SSH Key in your CentOS VM to access CloudLab\n",
    "    - See https://askubuntu.com/questions/46930/how-can-i-set-up-password-less-ssh-login\n",
    "    - Mac and Linux machines should already have `ssh-keygen`\n",
    "- You can set up multiple keys in the future for various devices you want to use to login to your CloudLab experiments\n",
    "- Import the puclic portion of the SSH key through CloudLab's webpage\n",
    "    - After logging into www.clouldlab.us, look under your username in the top right corner of the webpage and select **Manage SSH Keys**\n",
    "    - Copy and paste the public portion of the SSH key you generated in the previous step and click **Add Key**"
   ]
  },
  {
   "cell_type": "markdown",
   "metadata": {
    "slideshow": {
     "slide_type": "slide"
    }
   },
   "source": [
    "- Run `cat ~/.ssh/id_rsa.pub` to print out the content of the public key\n",
    "- Copy the content of the public key"
   ]
  },
  {
   "cell_type": "markdown",
   "metadata": {
    "slideshow": {
     "slide_type": "slide"
    }
   },
   "source": [
    "<center> <img src=\"pictures/03/cloudlabssh01.png\" width=\"1000\"/>"
   ]
  },
  {
   "cell_type": "markdown",
   "metadata": {
    "slideshow": {
     "slide_type": "slide"
    }
   },
   "source": [
    "Paste the content of the public key into the Key box"
   ]
  },
  {
   "cell_type": "markdown",
   "metadata": {
    "slideshow": {
     "slide_type": "slide"
    }
   },
   "source": [
    "<center> <img src=\"pictures/03/cloudlabssh02.png\" width=\"1000\"/>"
   ]
  },
  {
   "cell_type": "markdown",
   "metadata": {
    "slideshow": {
     "slide_type": "slide"
    }
   },
   "source": [
    "** Approaches to build experimental profile **\n",
    "\n",
    "- Copy an existing profile\n",
    "- Use a topology GUI\n",
    "- Write Python code (geni-lib)"
   ]
  }
 ],
 "metadata": {
  "celltoolbar": "Slideshow",
  "kernelspec": {
   "display_name": "Python 3",
   "language": "python",
   "name": "python3"
  },
  "language_info": {
   "codemirror_mode": {
    "name": "ipython",
    "version": 3
   },
   "file_extension": ".py",
   "mimetype": "text/x-python",
   "name": "python",
   "nbconvert_exporter": "python",
   "pygments_lexer": "ipython3",
   "version": "3.6.5"
  }
 },
 "nbformat": 4,
 "nbformat_minor": 1
}
