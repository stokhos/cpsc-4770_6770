{
 "cells": [
  {
   "cell_type": "markdown",
   "metadata": {},
   "source": [
    "### Assignment 3 (10 points)\n",
    "\n",
    "#### Part 1: Form a team (5 points):\n",
    "\n",
    "Form a team of three. It is possible to have team of four, but this requires explicit permission from the professor. If you do not have a team by the time this assignment is due, you will receive a 0 for this part and be randomized into a team. \n",
    "\n",
    "Once you have your team formed, please have one of the members send the professor an email so that the team members can be assigned to a group (for this assignment). \n",
    "  \n",
    "#### Part 2: Acquire the cluster template (5 points):\n",
    "\n",
    "Fork the cluster template from https://github.com/linhbngo/cluster-template into one of the team members' Github repositories. Invite the remaining members of the team to be part of this new repository. \n",
    "\n",
    "Create a new CloudLab profile based on this template and launch the cluster (choose Clemson or Wisconsin). After everything is installed, test run and make sure that the `hello.c` can be run from node `compute-1` using the following commands: \n",
    "\n",
    "```\n",
    "mpicc hello.c\n",
    "mpirun --np 3 --hostfile machine_list ./a.out\n",
    "```\n",
    "\n",
    "#### Submission:\n",
    "\n",
    "Each team should submit a text file to D2L containing the following:\n",
    "\n",
    "- The URL to the team repository.\n",
    "- The URL to the experiment instance of Part 2 on CloudLab (should be instantiated the moment you submit the assignment on D2L)\n",
    "\n",
    "As there is a timer on CloudLab experiment, I will attempt to grade your assignment as soon as possible, and I will **assume** that I have between 12 to 16 hours (see Submission condition) to grade. \n",
    "\n",
    "This is a team assignment. Each team should only have one submission"
   ]
  }
 ],
 "metadata": {
  "kernelspec": {
   "display_name": "Python 3",
   "language": "python",
   "name": "python3"
  },
  "language_info": {
   "codemirror_mode": {
    "name": "ipython",
    "version": 3
   },
   "file_extension": ".py",
   "mimetype": "text/x-python",
   "name": "python",
   "nbconvert_exporter": "python",
   "pygments_lexer": "ipython3",
   "version": "3.6.5"
  }
 },
 "nbformat": 4,
 "nbformat_minor": 2
}
