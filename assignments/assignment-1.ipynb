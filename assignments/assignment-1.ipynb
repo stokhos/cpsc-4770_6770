{
 "cells": [
  {
   "cell_type": "markdown",
   "metadata": {},
   "source": [
    "### Assignment 1 (10 points)\n",
    "\n",
    "#### Download Required Software Platforms (5 points):\n",
    "\n",
    "Complete the preparation steps in the [Introduction to Virtual Box](https://nbviewer.jupyter.org/github/linhbngo/Distributed-and-Cluster-Computing/blob/master/intro-to-virtualbox.ipynb) notebook. \n",
    "\n",
    "\n",
    "\n",
    "#### Registering for a CloudLab account (5 points):\n",
    "\n",
    "Go to https://www.cloudlab.us and click on \"Request an Account\". In the registration form, make sure that you select **Join Existing Project** and provide the following project name: PDC-edu-Lab. For the username, you must select the same username as your West Chester University account. For email address, you must use your **@wcupa.edu** account. If you fail to do so, I will not approve your account creation request. You can ignore the SSH Public Key file button for now, as we will go over that part in class. "
   ]
  },
  {
   "cell_type": "code",
   "execution_count": null,
   "metadata": {},
   "outputs": [],
   "source": []
  }
 ],
 "metadata": {
  "kernelspec": {
   "display_name": "Python 3",
   "language": "python",
   "name": "python3"
  },
  "language_info": {
   "codemirror_mode": {
    "name": "ipython",
    "version": 3
   },
   "file_extension": ".py",
   "mimetype": "text/x-python",
   "name": "python",
   "nbconvert_exporter": "python",
   "pygments_lexer": "ipython3",
   "version": "3.6.5"
  }
 },
 "nbformat": 4,
 "nbformat_minor": 2
}
