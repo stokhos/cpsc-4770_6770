{
 "cells": [
  {
   "cell_type": "markdown",
   "metadata": {},
   "source": [
    "### Assignment 2 (15 points)\n",
    "\n",
    "#### Part 1: Modify the default experiment profile from class lecture (5 points):\n",
    "\n",
    "This part of the assignment will use the repository that you forked in the [CloudLab geni-lab](https://nbviewer.jupyter.org/github/linhbngo/Distributed-and-Cluster-Computing/blob/master/03-cloudlab-genilib.ipynb) lecture:\n",
    "\n",
    "- Modify the `profile.py` such that:\n",
    "  - It uses the **CENTOS7-64-STD** image and has a public IP interface\n",
    "  - It uses a `XenVM` instead of a `RawPC` compute hardware\n",
    "- Modify the `silly.sh` file so that it contains the command to update the package and installs apache2\n",
    "- Make sure that all changes are committed\n",
    "- Instantiate the profile and confirm that the experiment is working as intended (one should be able to access the public IP address at port **80** and view the default Apache web page (Testing 1 2 3). \n",
    "  \n",
    "#### Part 2: Deploy a cluster of (virtual) computers on CloudLab (10 points):\n",
    "\n",
    "Create a 4-node cluster on CloudLab with the following requirements:\n",
    "\n",
    "- The Github repository for this assignment should be named cloud-deployment-2 (2 points)\n",
    "- The cluster should have 4 compute nodes, deployed as `XenVM` and run `CentOS7-64-STD` distro (2 points)\n",
    "- The 4 compute nodes should be named `node-1` through ` node-4`, and have their local IP addresses range from `192.168.1.1` to `192.168.1.4` accordingly. (4 points)\n",
    "- The first compute node, named `node-1`, should also have a public ID address. (2 points)\n",
    "- \n",
    "\n",
    "#### Submission:\n",
    "\n",
    "Each student should submit a text file (txt or pdf) to D2L containing the following:\n",
    "- The URL to the repository containing Part 1 on your Github account\n",
    "- The URL to the experiment instance of Part 1 on CloudLab (should be instantiated the moment you submit the assignment on D2L)\n",
    "- The URL to the repository containing Part 2 on your Github account\n",
    "- The URL to the experiment instance of Part 2 on CloudLab (should be instantiated the moment you submit the assignment on D2L)\n",
    "\n",
    "You must also email me immediately once you submit the assignment on D2L. As there is a timer on CloudLab experiment, I will attempt to grade your assignment as soon as possible, and I will **assume** that I have between 12 to 16 hours (see Submission condition) to grade. \n",
    "\n",
    "This is an individual assignment. Each student should have their own individual submission. "
   ]
  }
 ],
 "metadata": {
  "kernelspec": {
   "display_name": "Python 3",
   "language": "python",
   "name": "python3"
  },
  "language_info": {
   "codemirror_mode": {
    "name": "ipython",
    "version": 3
   },
   "file_extension": ".py",
   "mimetype": "text/x-python",
   "name": "python",
   "nbconvert_exporter": "python",
   "pygments_lexer": "ipython3",
   "version": "3.6.5"
  }
 },
 "nbformat": 4,
 "nbformat_minor": 2
}
