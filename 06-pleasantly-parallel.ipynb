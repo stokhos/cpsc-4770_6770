{
 "cells": [
  {
   "cell_type": "markdown",
   "metadata": {
    "slideshow": {
     "slide_type": "slide"
    }
   },
   "source": [
    "## <center>Pleasantly Parallel</center>\n",
    "### <center> Linh B. Ngo </center>"
   ]
  },
  {
   "cell_type": "markdown",
   "metadata": {
    "slideshow": {
     "slide_type": "slide"
    }
   },
   "source": [
    "- Embarrassingly parallel/naturally parallel/pleasantly parallel\n",
    "- “A computation that can obviously be divided into a number of completely different parts, each of which can be executed by a separate process.”\n"
   ]
  },
  {
   "cell_type": "markdown",
   "metadata": {
    "slideshow": {
     "slide_type": "slide"
    }
   },
   "source": [
    "- No communication or very little communication among the processes.\n",
    "- Each process can do its tasks without any interaction with the other processes.\n"
   ]
  },
  {
   "cell_type": "markdown",
   "metadata": {
    "slideshow": {
     "slide_type": "slide"
    }
   },
   "source": [
    "#### <center> Example: Trapezoid Calculation"
   ]
  },
  {
   "cell_type": "markdown",
   "metadata": {
    "slideshow": {
     "slide_type": "slide"
    }
   },
   "source": [
    "<center> \n",
    "    <img src=\"pictures/06/trapezoid01.png\" width=\"500\"/>\n",
    "</center>"
   ]
  },
  {
   "cell_type": "code",
   "execution_count": 1,
   "metadata": {
    "slideshow": {
     "slide_type": "slide"
    }
   },
   "outputs": [],
   "source": [
    "N = 8; a = 0; b = 2; h = (b - a)/N;"
   ]
  },
  {
   "cell_type": "code",
   "execution_count": 2,
   "metadata": {
    "slideshow": {
     "slide_type": "slide"
    }
   },
   "outputs": [
    {
     "name": "stdout",
     "output_type": "stream",
     "text": [
      "0.5 1.0\n"
     ]
    }
   ],
   "source": [
    "# With 4 processors (cores)\n",
    "size = 4; rank = 1\n",
    "local_N = N / size\n",
    "local_a = a + rank * h * local_N\n",
    "local_b = local_a + h * local_N\n",
    "print (local_a, local_b)"
   ]
  },
  {
   "cell_type": "markdown",
   "metadata": {
    "slideshow": {
     "slide_type": "slide"
    }
   },
   "source": [
    "- Which workload goes to which process?\n",
    "```\n",
    "if (rank == i) {\n",
    "\tdo great things\n",
    "}\n",
    "```\n",
    "- Start with small number of processes\n",
    "- Calculation workload assignment manually for each count of processes\n",
    "- Generalize assignment for process i based on sample calculations\n"
   ]
  },
  {
   "cell_type": "code",
   "execution_count": 3,
   "metadata": {
    "slideshow": {
     "slide_type": "slide"
    }
   },
   "outputs": [
    {
     "name": "stdout",
     "output_type": "stream",
     "text": [
      "Overwriting codes/openmpi/static.c\n"
     ]
    }
   ],
   "source": [
    "%%writefile codes/openmpi/static.c\n",
    "/*\n",
    " * MPI implementation of the trapezoid approach to integral calculation following a static\n",
    " * workload distribution and standard send()/recv() calls. \n",
    " * We assume that the number of trapezoids is divisible by the number of MPI process. \n",
    " */\n",
    "\n",
    "#include <stdio.h>\n",
    "#include <stdlib.h>\n",
    "#include \"mpi.h\"\n",
    "\n",
    "double Trap(double a, double b, int n);\n",
    "double f(double x);\n",
    "\n",
    "int main(int argc, char * argv[] ) {\n",
    "  int rank;     /* rank of each MPI process */\n",
    "  int size;     /* total number of MPI processes */\n",
    "  double a, b;  /* default left and right endpoints of the interval */\n",
    "  int n;        /* total number of trapezoids */\n",
    "  double h;        /* height of the trapezoids */\n",
    "  double local_a, local_b; /* left and right endpoints on each MPI process */\n",
    "  int local_n;  /* number of trapezoids assigned to each individual MPI process */\n",
    "  double result;       /* final integration result */\n",
    "  double local_result; /* partial integration result at each process */\n",
    "  int p;        /* counter */\n",
    "  MPI_Status status;\n",
    "\n",
    "  MPI_Init(&argc,&argv);\n",
    "  MPI_Comm_rank(MPI_COMM_WORLD,&rank);\n",
    "  MPI_Comm_size(MPI_COMM_WORLD,&size);\n",
    "\n",
    "  a = atof(argv[1]);\n",
    "  b = atof(argv[2]);\n",
    "  n = atoi(argv[3]);\n",
    "\n",
    "  // calculate work interval for each process\n",
    "  h = (b - a) / n;\n",
    "  local_n = n / size;\n",
    "  local_a = a + rank * local_n * h;\n",
    "  local_b = local_a + local_n * h;\n",
    "  local_result = Trap(local_a,local_b,local_n);\n",
    "\n",
    "  // sending the results back to the master\n",
    "  if (rank == 0){\n",
    "    result = local_result;\n",
    "    for (p = 1; p < size; p++){\n",
    "      MPI_Recv(&local_result,1,MPI_DOUBLE,p,MPI_ANY_TAG,MPI_COMM_WORLD,&status);\n",
    "      result += local_result;\n",
    "    }\n",
    "  } \n",
    "  else{\n",
    "    MPI_Send(&local_result,1,MPI_DOUBLE,0,0,MPI_COMM_WORLD);  \n",
    "  }\n",
    "\n",
    "  // displaying output at the master node\n",
    "  if (rank == 0){\n",
    "    printf(\"Calculating the integral of f(x) from %lf to %lf\\n\", a, b);\n",
    "    printf(\"The integral is %lf\\n\", result);  \n",
    "  }\n",
    "  MPI_Finalize();\n",
    "}\n",
    "\n",
    "double Trap(double a, double b, int n) {\n",
    "  double len, area;\n",
    "  double x;\n",
    "  int i;\n",
    "  len = (b - a) / n;\n",
    "  area = 0.5 * (f(a) + f(b));\n",
    "  x = a + len;\n",
    "  for (i=1; i<n; i++) {\n",
    "    area = area + f(x);\n",
    "    x = x + len;\n",
    "  }\n",
    "  area = area * len;\n",
    "  return area;\n",
    "}\n",
    "\n",
    "double f(double x) {\n",
    "  return ( x*x );\n",
    "}"
   ]
  },
  {
   "cell_type": "code",
   "execution_count": 4,
   "metadata": {
    "slideshow": {
     "slide_type": "slide"
    }
   },
   "outputs": [
    {
     "name": "stdout",
     "output_type": "stream",
     "text": [
      "Calculating the integral of f(x) from 0.000000 to 100.000000\r\n",
      "The integral is 333333.500000\r\n"
     ]
    }
   ],
   "source": [
    "!mpicc codes/openmpi/static.c -o ~/static\n",
    "!mpirun -np 8 --map-by core:OVERSUBSCRIBE ~/static 0 100 1000"
   ]
  },
  {
   "cell_type": "markdown",
   "metadata": {
    "slideshow": {
     "slide_type": "slide"
    }
   },
   "source": [
    "#### <center> Does each process receive the same amount of work?"
   ]
  },
  {
   "cell_type": "code",
   "execution_count": 5,
   "metadata": {
    "slideshow": {
     "slide_type": "slide"
    }
   },
   "outputs": [
    {
     "name": "stdout",
     "output_type": "stream",
     "text": [
      "Overwriting codes/openmpi/static_wtiming.c\n"
     ]
    }
   ],
   "source": [
    "%%writefile codes/openmpi/static_wtiming.c\n",
    "/*\n",
    " * MPI implementation of the trapezoid approach to integral calculation following a static\n",
    " * workload distribution and standard send()/recv() calls. \n",
    " * We assume that the number of trapezoids is divisible by the number of MPI process. \n",
    " */\n",
    "\n",
    "#include <stdio.h>\n",
    "#include <stdlib.h>\n",
    "#include \"mpi.h\"\n",
    "\n",
    "double Trap(double a, double b, int n);\n",
    "double f(double x);\n",
    "\n",
    "int main(int argc, char * argv[] ) {\n",
    "  int rank;     /* rank of each MPI process */\n",
    "  int size;     /* total number of MPI processes */\n",
    "  double a, b;  /* default left and right endpoints of the interval */\n",
    "  int n;        /* total number of trapezoids */\n",
    "  double h;        /* height of the trapezoids */\n",
    "  double local_a, local_b; /* left and right endpoints on each MPI process */\n",
    "  int local_n;  /* number of trapezoids assigned to each individual MPI process */\n",
    "  double result;       /* final integration result */\n",
    "  double local_result; /* partial integration result at each process */\n",
    "  double start, stop, tpar, tcomm;  /* timing variables */\n",
    "  int p;        /* counter */\n",
    "  MPI_Status status;\n",
    "\n",
    "  MPI_Init(&argc,&argv);\n",
    "  MPI_Comm_rank(MPI_COMM_WORLD,&rank);\n",
    "  MPI_Comm_size(MPI_COMM_WORLD,&size);\n",
    "\n",
    "  a = atof(argv[1]);\n",
    "  b = atof(argv[2]);\n",
    "  n = atoi(argv[3]);\n",
    "\n",
    "  // calculate work interval for each process\n",
    "  start = MPI_Wtime();\n",
    "  h = (b - a) / n;\n",
    "  local_n = n / size;\n",
    "  local_a = a + rank * local_n * h;\n",
    "  local_b = local_a + local_n * h;\n",
    "  local_result = Trap(local_a,local_b,local_n);\n",
    "  stop = MPI_Wtime();\n",
    "  tpar = stop - start;\n",
    "\n",
    "  printf(\"Process %d uses %lfs to calculate partial result %lf\\n\", rank, tpar, local_result);\n",
    "\n",
    "  // sending the results back to the master\n",
    "  start = MPI_Wtime();\n",
    "  if (rank == 0){\n",
    "    result = local_result;\n",
    "    for (p = 1; p < size; p++){\n",
    "      MPI_Recv(&local_result,1,MPI_DOUBLE,p,MPI_ANY_TAG,MPI_COMM_WORLD,&status);\n",
    "      result += local_result;\n",
    "    }\n",
    "  } \n",
    "  else{\n",
    "    MPI_Send(&local_result,1,MPI_DOUBLE,0,0,MPI_COMM_WORLD);  \n",
    "  }\n",
    "  stop  = MPI_Wtime();\n",
    "  tcomm = stop - start;\n",
    "\n",
    "  // displaying output at the master node\n",
    "  if (rank == 0){\n",
    "    printf(\"Calculating the integral of f(x) from %lf to %lf\\n\", a, b);\n",
    "    printf(\"The integral is %lf\\n\", result);  \n",
    "    printf(\"Communication time: %.5fs\\n\",tcomm);\n",
    "  }\n",
    "  MPI_Finalize();\n",
    "}\n",
    "\n",
    "double Trap(double a, double b, int n) {\n",
    "  double len, area;\n",
    "  double x;\n",
    "  int i;\n",
    "  len = (b - a) / n;\n",
    "  area = 0.5 * (f(a) + f(b));\n",
    "  x = a + len;\n",
    "  for (i=1; i<n; i++) {\n",
    "    area = area + f(x);\n",
    "    x = x + len;\n",
    "  }\n",
    "  area = area * len;\n",
    "  return area;\n",
    "}\n",
    "\n",
    "double f(double x) {\n",
    "  return ( x*x );\n",
    "}"
   ]
  },
  {
   "cell_type": "code",
   "execution_count": 6,
   "metadata": {
    "slideshow": {
     "slide_type": "slide"
    }
   },
   "outputs": [
    {
     "name": "stdout",
     "output_type": "stream",
     "text": [
      "Process 1 uses 0.000001s to calculate partial result 4557.312500\r\n",
      "Process 6 uses 0.000001s to calculate partial result 82682.312500\r\n",
      "Process 0 uses 0.000001s to calculate partial result 651.062500\r\n",
      "Process 5 uses 0.000001s to calculate partial result 59244.812500\r\n",
      "Process 4 uses 0.000001s to calculate partial result 39713.562500\r\n",
      "Process 7 uses 0.000001s to calculate partial result 110026.062500\r\n",
      "Process 2 uses 0.000001s to calculate partial result 12369.812500\r\n",
      "Process 3 uses 0.000001s to calculate partial result 24088.562500\r\n",
      "Calculating the integral of f(x) from 0.000000 to 100.000000\r\n",
      "The integral is 333333.500000\r\n",
      "Communication time: 0.00032s\r\n"
     ]
    }
   ],
   "source": [
    "!mpicc codes/openmpi/static_wtiming.c -o ~/static_wtiming\n",
    "!mpirun -np 8 --map-by core:OVERSUBSCRIBE ~/static_wtiming 0 100 1000"
   ]
  },
  {
   "cell_type": "markdown",
   "metadata": {
    "slideshow": {
     "slide_type": "slide"
    }
   },
   "source": [
    "<center> \n",
    "    <img src=\"pictures/06/static-wa.png\" width=\"400\"/>\n",
    "</center>"
   ]
  },
  {
   "cell_type": "markdown",
   "metadata": {
    "slideshow": {
     "slide_type": "slide"
    }
   },
   "source": [
    "<center> \n",
    "    <img src=\"pictures/06/cyclic-wl.png\" width=\"400\"/>\n",
    "</center>"
   ]
  },
  {
   "cell_type": "code",
   "execution_count": 7,
   "metadata": {
    "slideshow": {
     "slide_type": "slide"
    }
   },
   "outputs": [
    {
     "name": "stdout",
     "output_type": "stream",
     "text": [
      "Overwriting codes/openmpi/cyclic.c\n"
     ]
    }
   ],
   "source": [
    "%%writefile codes/openmpi/cyclic.c\n",
    "#include <stdio.h>\n",
    "#include <stdlib.h>\n",
    "#include <mpi.h>\n",
    "\n",
    "float f(float x);\n",
    "\n",
    "main(int argc, char** argv) {\n",
    "  int rank;     /* rank of each MPI process */\n",
    "  int size;     /* total number of MPI processes */\n",
    "  double a, b;  /* default left and right endpoints of the interval */\n",
    "  int n;        /* total number of trapezoids */\n",
    "  double h;        /* height of the trapezoids */\n",
    "  double local_a, local_b; /* left and right endpoints on each MPI process */\n",
    "  int local_n;  /* number of trapezoids assigned to each individual MPI process */\n",
    "  double result;       /* final integration result */\n",
    "  double local_result; /* partial integration result at each process */\n",
    "  double start, stop, tpar, tcomm;  /* timing variables */\n",
    "  int i;        /* counter */\n",
    "  MPI_Status  status;\n",
    "\n",
    "  MPI_Init(&argc, &argv);\n",
    "  MPI_Comm_rank(MPI_COMM_WORLD, &rank);\n",
    "  MPI_Comm_size(MPI_COMM_WORLD, &size);\n",
    "\n",
    "  a = atof(argv[1]);               \n",
    "  b = atof(argv[2]);              \n",
    "  n = atoi(argv[3]);               \n",
    " \n",
    "  // calculate work interval for each process\n",
    "  start = MPI_Wtime(); \n",
    "  h = (b-a)/n;    /* height is the same for all processes */\n",
    "  local_n = n/size;  /*  so is the number of trapezoids */\n",
    "\n",
    "  /* Each process' interval starts at: */\n",
    "  local_a = a + rank * h;\n",
    "  local_b = local_a + h;\n",
    "  local_result = 0;\n",
    "\n",
    "  for (i = 0; i < n/size; i++){\n",
    "    local_result = local_result + h * (f(local_a) +  f(local_b)) / 2;\n",
    "    local_a += h * size;\n",
    "    local_b = local_a + h;\n",
    "  }\n",
    "  stop = MPI_Wtime();\n",
    "  tpar = stop - start;\n",
    "\n",
    "  printf(\"Process %d uses %lfs to calculate partial result %lf\\n\", rank, tpar, local_result);\n",
    "  \n",
    "  // sending the results back to the master using reduce  \n",
    "  start = MPI_Wtime();\n",
    "  MPI_Reduce(&local_result, &result, 1, MPI_DOUBLE, MPI_SUM, 0, MPI_COMM_WORLD);\n",
    "  stop = MPI_Wtime();\n",
    "  tcomm = stop - start;\n",
    "\n",
    "  /* Print the result */\n",
    "  if (rank == 0){\n",
    "    printf(\"Calculating the integral of f(x) from %lf to %lf\\n\", a, b);\n",
    "    printf(\"The integral is %lf\\n\", result);  \n",
    "    printf(\"Communication time: %.5fs\\n\",tcomm);\n",
    "  }\n",
    "  MPI_Finalize();\n",
    "}\n",
    "\n",
    "float f(float x) {\n",
    "    return ( x*x );\n",
    "} "
   ]
  },
  {
   "cell_type": "code",
   "execution_count": 8,
   "metadata": {
    "slideshow": {
     "slide_type": "slide"
    }
   },
   "outputs": [
    {
     "name": "stdout",
     "output_type": "stream",
     "text": [
      "Process 2 uses 0.000003s to calculate partial result 41478.812410\r\n",
      "Process 4 uses 0.000003s to calculate partial result 41728.562518\r\n",
      "Process 7 uses 0.000003s to calculate partial result 42105.062441\r\n",
      "Process 1 uses 0.000003s to calculate partial result 41354.312473\r\n",
      "Process 3 uses 0.000003s to calculate partial result 41603.562379\r\n",
      "Process 0 uses 0.000003s to calculate partial result 41230.062246\r\n",
      "Process 6 uses 0.000003s to calculate partial result 41979.312502\r\n",
      "Process 5 uses 0.000003s to calculate partial result 41853.812428\r\n",
      "Calculating the integral of f(x) from 0.000000 to 100.000000\r\n",
      "The integral is 333333.499397\r\n",
      "Communication time: 0.00050s\r\n"
     ]
    }
   ],
   "source": [
    "!mpicc codes/openmpi/cyclic.c -o ~/cyclic\n",
    "!mpirun -np 8 --map-by core:OVERSUBSCRIBE ~/cyclic 0 100 1000"
   ]
  },
  {
   "cell_type": "markdown",
   "metadata": {
    "slideshow": {
     "slide_type": "slide"
    }
   },
   "source": [
    "<center> \n",
    "    <img src=\"pictures/06/dynamic-wl.png\" width=\"800\"/>\n",
    "</center>"
   ]
  },
  {
   "cell_type": "code",
   "execution_count": 9,
   "metadata": {
    "slideshow": {
     "slide_type": "slide"
    }
   },
   "outputs": [
    {
     "name": "stdout",
     "output_type": "stream",
     "text": [
      "Overwriting codes/openmpi/dynamic.c\n"
     ]
    }
   ],
   "source": [
    "%%writefile codes/openmpi/dynamic.c\n",
    "#include <stdio.h>\n",
    "#include <stdlib.h>\n",
    "#include <mpi.h>\n",
    "\n",
    "#define SEND 1\n",
    "#define STOP 0\n",
    "\n",
    "float f(float x);\n",
    "\n",
    "main(int argc, char** argv) {\n",
    "  int rank;     /* rank of each MPI process */\n",
    "  int size;     /* total number of MPI processes */\n",
    "  double a, b;  /* default left and right endpoints of the interval */\n",
    "  int n;        /* total number of trapezoids */\n",
    "  double h;        /* height of the trapezoids */\n",
    "  double param[3]; /* array containing end points and height for each individual trapezoid\n",
    "                      for communication purpose */\n",
    "  double local_result = 0.0;  /* area of each individual trapezoid */\n",
    "  double partial_result = 0.0; /* amount of area calculated by each process */\n",
    "  double result = 0.0;     /* Total integral            */\n",
    "  int source;    /* Process sending the partial integral  */\n",
    "  int dest = 0;  /* All messages go to 0      */\n",
    "  int tag = 0;\n",
    "  double start, stop, tpar, tcomm;\n",
    "  int i,count, partial_count;\n",
    "  MPI_Status  status;\n",
    "\n",
    "  MPI_Init(&argc, &argv);\n",
    "  MPI_Comm_rank(MPI_COMM_WORLD, &rank);\n",
    "  MPI_Comm_size(MPI_COMM_WORLD, &size);\n",
    "    start = MPI_Wtime();\n",
    "\n",
    "  /* initial job distribution is handled only by process 0 */\n",
    "  if (rank == 0){\n",
    "    a = atof(argv[1]);               \n",
    "    b = atof(argv[2]);               \n",
    "    n = atoi(argv[3]);              \n",
    "    h = (b-a)/n;    \n",
    "    count = 0;\n",
    "    /* send out the first round of work assignment, incrementing count as needed */\n",
    "    for (i = 1; i < size; i++){\n",
    "      param[0] = a + count * h;\n",
    "      param[1] = param[0] + h;\n",
    "      param[2] = h;\n",
    "      MPI_Send(param,3,MPI_DOUBLE,i,SEND,MPI_COMM_WORLD);\n",
    "      count = count + 1;\n",
    "    }\n",
    "  }\n",
    "  else {\n",
    "    MPI_Recv(param,3,MPI_DOUBLE,0,MPI_ANY_TAG,MPI_COMM_WORLD,&status);\n",
    "  }\n",
    "    \n",
    "  tpar = 0.0;\n",
    "  tcomm = 0.0;\n",
    "  partial_count = 0; \n",
    "  /* Each process that is not process 0 works on its portion, send the partial result back to 0, \n",
    "   * and wait for new workload unless the TAG of the message is 0 \n",
    "   */\n",
    "  if (rank != 0){\n",
    "    do {\n",
    "      start = MPI_Wtime();\n",
    "      local_result = param[2] * (f(param[1]) +  f(param[0])) / 2;\n",
    "      partial_result += local_result;\n",
    "      stop = MPI_Wtime(); \n",
    "      tpar += stop - start;\n",
    "      partial_count += 1;\n",
    "      start = MPI_Wtime();\n",
    "      MPI_Send(&local_result,1,MPI_DOUBLE,0,SEND,MPI_COMM_WORLD);      \n",
    "      MPI_Recv(param,3,MPI_DOUBLE,0,MPI_ANY_TAG,MPI_COMM_WORLD,&status);\n",
    "      stop = MPI_Wtime();\n",
    "      tcomm += stop - start;\n",
    "    } while(status.MPI_TAG != 0);\n",
    "    printf(\"Process %d uses %lfs to calculate partial result %lf of %d portions and %lfs for communication \\n\", rank, tpar, partial_result, partial_count, tcomm);\n",
    "  }\n",
    "  \n",
    "\n",
    "  /* Process 0 receives results and sends out work while there is still work left to be sent\n",
    "   * (count < n) */\n",
    "  if (rank == 0) {\n",
    "    do {\n",
    "      MPI_Recv(&local_result,1,MPI_DOUBLE,MPI_ANY_SOURCE,MPI_ANY_TAG,MPI_COMM_WORLD,&status);\n",
    "      result = result + local_result;    \n",
    "      param[0] = a + count * h;\n",
    "      param[1] = param[0] + h;\n",
    "      param[2] = h;\n",
    "      MPI_Send(param,3,MPI_DOUBLE,status.MPI_SOURCE,SEND,MPI_COMM_WORLD); \n",
    "      count = count + 1; \n",
    "    }   \n",
    "    while (count < n);  \n",
    "\n",
    "    /* Make sure that we receive everything */\n",
    "    for (i = 0; i < (size - 1); i++){\n",
    "      MPI_Recv(&local_result,1,MPI_DOUBLE,MPI_ANY_SOURCE,MPI_ANY_TAG,MPI_COMM_WORLD,&status);\n",
    "      result = result + local_result;  \n",
    "    } \n",
    "  }\n",
    "\n",
    "  /* All the work has been sent, */\n",
    "  if (rank == 0){\n",
    "    for (i = 1; i < size; i++){\n",
    "      MPI_Send(param,3,MPI_DOUBLE,i,STOP,MPI_COMM_WORLD);\n",
    "    }\n",
    "  }\n",
    "\n",
    "    /* Print the result */\n",
    "    if (rank == 0) {\n",
    "        printf(\"With n = %d trapezoids, our estimate\\n\",\n",
    "            n);\n",
    "        printf(\"of the integral from %f to %f = %f\\n\",\n",
    "            a, b, result);\n",
    "    }\n",
    "\n",
    "    /* Shut down MPI */\n",
    "    MPI_Finalize();\n",
    "} /*  main  */\n",
    "\n",
    "float f(float x) {\n",
    "    return ( x*x );\n",
    "} "
   ]
  },
  {
   "cell_type": "code",
   "execution_count": 10,
   "metadata": {
    "slideshow": {
     "slide_type": "slide"
    }
   },
   "outputs": [
    {
     "name": "stdout",
     "output_type": "stream",
     "text": [
      "With n = 1000 trapezoids, our estimate\r\n",
      "of the integral from 0.000000 to 100.000000 = 333333.499397\r\n",
      "Process 3 uses 0.000011s to calculate partial result 48070.134273 of 145 portions and 0.005426s for communication \r\n",
      "Process 4 uses 0.000011s to calculate partial result 47221.898243 of 144 portions and 0.005598s for communication \r\n",
      "Process 6 uses 0.000013s to calculate partial result 46641.744142 of 145 portions and 0.005714s for communication \r\n",
      "Process 7 uses 0.000010s to calculate partial result 48331.990086 of 132 portions and 0.004679s for communication \r\n",
      "Process 2 uses 0.000012s to calculate partial result 50906.612141 of 153 portions and 0.005935s for communication \r\n",
      "Process 5 uses 0.000012s to calculate partial result 45724.445379 of 143 portions and 0.005760s for communication \r\n",
      "Process 1 uses 0.000012s to calculate partial result 46436.675133 of 138 portions and 0.006154s for communication \r\n"
     ]
    }
   ],
   "source": [
    "!mpicc codes/openmpi/dynamic.c -o ~/dynamic\n",
    "!mpirun -np 8 --map-by core:OVERSUBSCRIBE ~/dynamic 0 100 1000"
   ]
  },
  {
   "cell_type": "markdown",
   "metadata": {
    "slideshow": {
     "slide_type": "slide"
    }
   },
   "source": [
    "<center> \n",
    "    <img src=\"pictures/06/pi_montecarlo.png\" width=\"700\"/>\n",
    "</center>"
   ]
  },
  {
   "cell_type": "code",
   "execution_count": 11,
   "metadata": {
    "slideshow": {
     "slide_type": "slide"
    }
   },
   "outputs": [
    {
     "name": "stdout",
     "output_type": "stream",
     "text": [
      "Overwriting codes/openmpi/pi_mc.c\n"
     ]
    }
   ],
   "source": [
    "%%writefile codes/openmpi/pi_mc.c\n",
    "\n",
    "#include <stdio.h>\n",
    "#include <stdlib.h>\n",
    "#include <mpi.h>\n",
    "#include <math.h>\n",
    "\n",
    "int main(int argc, char* argv[]) {\n",
    "\n",
    "  int nPointsInCircle  = 0;\n",
    "  int i = 0;\n",
    "  int nPointsTotal     = 0;\n",
    "  int nPointsPerRegion = 0;\n",
    "  int pointsReceived   = 0;\n",
    "  double piEstimate;\n",
    "  double x_start, y_start;\n",
    "  double x_rand, y_rand, rand_radius; \n",
    "  int rank, size, squareWidth;\n",
    "  MPI_Status status;\n",
    "\n",
    "  nPointsTotal = atoi(argv[1]);\n",
    "\n",
    "  MPI_Init(&argc, &argv);\n",
    "  MPI_Comm_rank(MPI_COMM_WORLD, &rank);\n",
    "  MPI_Comm_size(MPI_COMM_WORLD, &size);\n",
    "\n",
    "  // Seed RNG and make calculations for constants\n",
    "  nPointsPerRegion = nPointsTotal / size;\n",
    "  srand( (unsigned)time(NULL) + rank ); // seed differently per node\n",
    "  squareWidth = (int) sqrt(size);\n",
    "\n",
    "  // Place and record points in the circle\n",
    "  x_start = (double)(rank % squareWidth) / squareWidth;\n",
    "  y_start = (double)((rank / squareWidth)) / squareWidth;\n",
    "\n",
    "  //printf(\"Rank %d out of %d has starting x %f and starting y %f on a square of size %d \\n\", \n",
    "  //       rank, size, x_start, y_start, squareWidth);\n",
    "    \n",
    "  for (i = 0; i < nPointsPerRegion; i++) {\n",
    "    x_rand = (double)rand() / ((double)RAND_MAX * squareWidth) + x_start;\n",
    "    y_rand = (double)rand() / ((double)RAND_MAX * squareWidth) + y_start;\n",
    "    rand_radius = (x_rand - 0.5) * (x_rand - 0.5) + (y_rand - 0.5) * (y_rand - 0.5);\n",
    "    if (rand_radius <= 0.25) {\n",
    "      nPointsInCircle += 1;\n",
    "    }\n",
    "  }\n",
    "  \n",
    "  MPI_Reduce(&nPointsInCircle, &pointsReceived, 1, MPI_INT, MPI_SUM, 0, MPI_COMM_WORLD);\n",
    "  if (rank == 0) {\n",
    "    piEstimate = (double)(pointsReceived * 4) / nPointsTotal;\n",
    "    printf(\"%f\\n\", piEstimate);\n",
    "  } \n",
    "\n",
    "  MPI_Finalize();\n",
    "  return 0;\n",
    "}"
   ]
  },
  {
   "cell_type": "code",
   "execution_count": 12,
   "metadata": {
    "slideshow": {
     "slide_type": "slide"
    }
   },
   "outputs": [
    {
     "name": "stdout",
     "output_type": "stream",
     "text": [
      "\u001b[01m\u001b[Kcodes/openmpi/pi_mc.c:\u001b[m\u001b[K In function ‘\u001b[01m\u001b[Kmain\u001b[m\u001b[K’:\n",
      "\u001b[01m\u001b[Kcodes/openmpi/pi_mc.c:36:51:\u001b[m\u001b[K \u001b[01;31m\u001b[Kerror: \u001b[m\u001b[Kexpected ‘\u001b[01m\u001b[K;\u001b[m\u001b[K’ before ‘\u001b[01m\u001b[K)\u001b[m\u001b[K’ token\n",
      "          rank, size, x_start, y_start, squareWidth);\n",
      "\u001b[01;32m\u001b[K                                                   ^\u001b[m\u001b[K\n",
      "\u001b[01m\u001b[Kcodes/openmpi/pi_mc.c:36:51:\u001b[m\u001b[K \u001b[01;31m\u001b[Kerror: \u001b[m\u001b[Kexpected statement before ‘\u001b[01m\u001b[K)\u001b[m\u001b[K’ token\n",
      "Rank 0 out of 4 has starting x 0.000000 and starting y 0.000000 on a square of size 2 \n",
      "Rank 3 out of 4 has starting x 0.500000 and starting y 0.500000 on a square of size 2 \n",
      "Rank 1 out of 4 has starting x 0.500000 and starting y 0.000000 on a square of size 2 \n",
      "Rank 2 out of 4 has starting x 0.000000 and starting y 0.500000 on a square of size 2 \n",
      "3.135760\n"
     ]
    }
   ],
   "source": [
    "!mpicc -lm codes/openmpi/pi_mc.c -o ~/pi_mc\n",
    "!mpirun -np 4 --map-by core:OVERSUBSCRIBE ~/pi_mc 100000"
   ]
  }
 ],
 "metadata": {
  "celltoolbar": "Slideshow",
  "kernelspec": {
   "display_name": "Python 3",
   "language": "python",
   "name": "python3"
  },
  "language_info": {
   "codemirror_mode": {
    "name": "ipython",
    "version": 3
   },
   "file_extension": ".py",
   "mimetype": "text/x-python",
   "name": "python",
   "nbconvert_exporter": "python",
   "pygments_lexer": "ipython3",
   "version": "3.6.5"
  }
 },
 "nbformat": 4,
 "nbformat_minor": 1
}
