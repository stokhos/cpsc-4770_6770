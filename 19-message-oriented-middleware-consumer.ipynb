{
 "cells": [
  {
   "cell_type": "markdown",
   "metadata": {},
   "source": [
    "# <center> Kafka Consumer for Twitter </center>"
   ]
  },
  {
   "cell_type": "code",
   "execution_count": 1,
   "metadata": {
    "collapsed": true
   },
   "outputs": [],
   "source": [
    "from confluent_kafka import Consumer, KafkaException, KafkaError\n",
    "import sys\n",
    "import getopt\n",
    "import json\n",
    "from pprint import pformat"
   ]
  },
  {
   "cell_type": "code",
   "execution_count": 6,
   "metadata": {
    "collapsed": true
   },
   "outputs": [],
   "source": [
    "def stats_cb(stats_json_str):\n",
    "    stats_json = json.loads(stats_json_str)\n",
    "    print('\\nKAFKA Stats: {}\\n'.format(pformat(stats_json)))\n",
    "\n",
    "broker = 'node1774.palmetto.clemson.edu:9092'\n",
    "group = '1'\n",
    "topics = ['test']\n",
    "    \n",
    "# Consumer configuration\n",
    "# See https://github.com/edenhill/librdkafka/blob/master/CONFIGURATION.md\n",
    "conf = {'bootstrap.servers': broker, \\\n",
    "        'group.id': group, \\\n",
    "        'session.timeout.ms': 6000,\\\n",
    "        'default.topic.config': {'auto.offset.reset': 'smallest'}}"
   ]
  },
  {
   "cell_type": "code",
   "execution_count": 8,
   "metadata": {
    "scrolled": false
   },
   "outputs": [
    {
     "name": "stdout",
     "output_type": "stream",
     "text": [
      "Assignment: []\n",
      "Assignment: []\n",
      "Assignment: []\n",
      "Assignment: []\n",
      "Assignment: []\n",
      "Assignment: []\n"
     ]
    },
    {
     "name": "stderr",
     "output_type": "stream",
     "text": [
      "%% Aborted by user\n"
     ]
    }
   ],
   "source": [
    "# Create Consumer instance\n",
    "c = Consumer(**conf)\n",
    "\n",
    "def print_assignment(consumer, partitions):\n",
    "    print('Assignment:', partitions)\n",
    "\n",
    "# Subscribe to topics\n",
    "c.subscribe(topics, on_assign=print_assignment)\n",
    "\n",
    "\n",
    "# Read messages from Kafka, print to stdout\n",
    "try:\n",
    "    while True:\n",
    "        msg = c.poll(timeout=1.0)\n",
    "        if msg is None:\n",
    "            continue\n",
    "        if msg.error():\n",
    "            # Error or event\n",
    "            if msg.error().code() == KafkaError._PARTITION_EOF:\n",
    "                # End of partition event\n",
    "                sys.stderr.write('%% %s [%d] reached end at offset %d\\n' % (msg.topic(), msg.partition(), msg.offset()))\n",
    "            elif msg.error():\n",
    "                # Error\n",
    "                raise KafkaException(msg.error())\n",
    "        else:\n",
    "            # Proper message\n",
    "            # sys.stderr.write('%% %s [%d] at offset %d with key %s:\\n' % (msg.topic(), msg.partition(), msg.offset(), str(msg.key())))\n",
    "            jsonData = json.loads(json.loads(msg.value()))\n",
    "            # print (jsonData['text'])\n",
    "            print(msg.value())\n",
    "\n",
    "except KeyboardInterrupt:\n",
    "    sys.stderr.write('%% Aborted by user\\n')\n",
    "\n",
    "# Close down consumer to commit final offsets.\n",
    "c.close()"
   ]
  },
  {
   "cell_type": "code",
   "execution_count": null,
   "metadata": {
    "collapsed": true
   },
   "outputs": [],
   "source": []
  },
  {
   "cell_type": "code",
   "execution_count": null,
   "metadata": {
    "collapsed": true
   },
   "outputs": [],
   "source": []
  }
 ],
 "metadata": {
  "kernelspec": {
   "display_name": "Python-Kafka-3.6",
   "language": "python",
   "name": "python-kafka-3.6"
  },
  "language_info": {
   "codemirror_mode": {
    "name": "ipython",
    "version": 3
   },
   "file_extension": ".py",
   "mimetype": "text/x-python",
   "name": "python",
   "nbconvert_exporter": "python",
   "pygments_lexer": "ipython3",
   "version": "3.6.3"
  }
 },
 "nbformat": 4,
 "nbformat_minor": 1
}
