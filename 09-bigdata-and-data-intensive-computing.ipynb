{
 "cells": [
  {
   "cell_type": "markdown",
   "metadata": {
    "slideshow": {
     "slide_type": "slide"
    }
   },
   "source": [
    "### <center> Big Data Overview </center>\n",
    "\n",
    "#### <center> Linh B. Ngo </center>"
   ]
  },
  {
   "cell_type": "markdown",
   "metadata": {
    "slideshow": {
     "slide_type": "slide"
    }
   },
   "source": [
    "\"Big data is like teenage sex: everyone talks about it, nobody really knows how to do it, everyone thinks everyone else is doing it, so everyone claims they are doign it ...\" *Dan Ariely, Duke University*"
   ]
  },
  {
   "cell_type": "markdown",
   "metadata": {
    "slideshow": {
     "slide_type": "slide"
    }
   },
   "source": [
    "#### How big is Big Data?\n",
    "- Big enough the traidtional techniques can't handle it. \n",
    "\n",
    "*PostgreSQL can handle tables with size up to 32TB. Does it mean Big Data has to be bigger than this?*"
   ]
  },
  {
   "cell_type": "markdown",
   "metadata": {
    "slideshow": {
     "slide_type": "slide"
    }
   },
   "source": [
    "#### How big is Big Data?\n",
    "- Big enough that one computer can't store or process. \n",
    "\n",
    "*Largest single-memory computer built by HP in 2017 has 160 TB of RAM.Does it mean Big Data has to be bigger than this?*"
   ]
  },
  {
   "cell_type": "markdown",
   "metadata": {
    "slideshow": {
     "slide_type": "slide"
    }
   },
   "source": [
    "#### What is big data? \n",
    "Big data problems are problems whose not only the processing power, but the size of the data is also the limiting factor in being able to find a timely solution. "
   ]
  },
  {
   "cell_type": "markdown",
   "metadata": {
    "slideshow": {
     "slide_type": "slide"
    }
   },
   "source": [
    "#### Big Data\n",
    "\n",
    "- Input data carrying characteristics of Big Data (the 4V)\n",
    "- Computational process can be simple and straightforward, with minimal intermediate data being generated"
   ]
  },
  {
   "cell_type": "markdown",
   "metadata": {
    "slideshow": {
     "slide_type": "slide"
    }
   },
   "source": [
    "#### Data Intensive Computing \n",
    "- Input data may or may not be big data\n",
    "- Computational process produces massive and complex intermediate data that needs to be analyzed during the process"
   ]
  },
  {
   "cell_type": "markdown",
   "metadata": {
    "slideshow": {
     "slide_type": "slide"
    }
   },
   "source": [
    "#### How did Big Data come to be in science?\n",
    "\n",
    "- Thousands of years ago, science was **empirical** describing natural phenomena. \n",
    "- Last few hundred years, science developed **theoretical** branch using models, equations, and generalizations. \n",
    "- Last few decades, science has created a new **computational** branch that specializes in simulating complex phenomena based on theoretical models and equations. \n",
    "- Today, large-scale simulations and advanced technologies enabled the fourth pillar of scientific discovery called **data-driven science**, where scientist synthesize theory, experiment, and computation with statistics. "
   ]
  },
  {
   "cell_type": "markdown",
   "metadata": {
    "slideshow": {
     "slide_type": "slide"
    }
   },
   "source": [
    "- Scientific data are doubling every year, reaching petabytes of data. \n",
    "  - CERN reported 22PB in 2012, 125PB in 2015, and is currently at 200PB. \n",
    "- Scientific data are being generated from different institutions.\n",
    "- Traditional HPC approach (separation of computation and storage) will slow down due to the I/O bottle neck. "
   ]
  },
  {
   "cell_type": "markdown",
   "metadata": {
    "slideshow": {
     "slide_type": "slide"
    }
   },
   "source": [
    "#### How did Big Data come to be in industry?\n",
    "\n",
    "- Better, faster way of generating and collecting data online (Google, Facebook, Amazon, eBay ...)\n",
    "- The emergence of embedded sensors across all industry (smart devices)"
   ]
  },
  {
   "cell_type": "markdown",
   "metadata": {
    "slideshow": {
     "slide_type": "slide"
    }
   },
   "source": [
    "- GE: In 2020, up to 50 billions devices (many of them industrial machines) will be connected to the internet. \n",
    "- Amazon: Use big data analytic to analyze sale and provide recommendation/suggesiton to buyers (\"Customers who bought this ...\")\n",
    "- Smart cars:\n",
    "  - Up to more than 100 sensors\n",
    "  - Can generate up to 25Gb of data per hour (McKinsey report)"
   ]
  },
  {
   "cell_type": "markdown",
   "metadata": {
    "slideshow": {
     "slide_type": "slide"
    }
   },
   "source": [
    "<img src=\"pictures/09/2014_hypecycle.png\" width=\"700\"/> "
   ]
  },
  {
   "cell_type": "markdown",
   "metadata": {
    "slideshow": {
     "slide_type": "slide"
    }
   },
   "source": [
    "<img src=\"pictures/09/2015_hypecycle.png\" width=\"700\"/> "
   ]
  },
  {
   "cell_type": "markdown",
   "metadata": {
    "slideshow": {
     "slide_type": "slide"
    }
   },
   "source": [
    "<img src=\"pictures/09/2018_hypecycle.png\" width=\"700\"/> "
   ]
  },
  {
   "cell_type": "markdown",
   "metadata": {
    "slideshow": {
     "slide_type": "slide"
    }
   },
   "source": [
    "<img src=\"pictures/09/5V.gif\" width=\"700\"/> "
   ]
  },
  {
   "cell_type": "markdown",
   "metadata": {
    "slideshow": {
     "slide_type": "slide"
    }
   },
   "source": [
    "#### Big Data Applications\n",
    "\n",
    "- Consumer Services: Web search, recommendation engines(Amazon, Netflix), Social networks, video analytics (YouTube), Internet of Things (NEST, wearables, fitness tracker, connected vehicles …)\n",
    "- Industrial Manufacturing: Supply Chain and Logistics, Assembly Quality, Smart Machines\n",
    "- Government: Census, Archiving, Image Surveillance, Situation Assessment\n",
    "- Sciences: Genome sequencing, astrophysics, particle physics"
   ]
  },
  {
   "cell_type": "markdown",
   "metadata": {
    "slideshow": {
     "slide_type": "slide"
    }
   },
   "source": [
    "#### Programming Paradigm for Big Data\n",
    "- Multi-faceted challenges:\n",
    "  - Require not only parallel computation but also parallel data processing\n",
    "- New computational tools and strategies\n",
    "- New data intensive scalable architectures\n",
    "- Science is moving increasingly from hypothesis-driven to data-driven discoveries\n",
    "- Industry is at a stage where big data infrastructures are integrated and big data sets are beginning to be analyzed to produce business insights"
   ]
  },
  {
   "cell_type": "markdown",
   "metadata": {
    "slideshow": {
     "slide_type": "slide"
    }
   },
   "source": [
    "#### Data Intensive Approach\n",
    "\n",
    "- Scale “out”, not “up”\n",
    "- It is easier and cheaper to add nodes to an existing cluster than to build a faster cluster.\n",
    "- Move computation to the data\n",
    "- Reduce data movement.\n",
    "- Sequential processing, avoid random access\n",
    "- Reduce seek movement on disks.\n",
    "- Seamless scalability"
   ]
  }
 ],
 "metadata": {
  "celltoolbar": "Slideshow",
  "kernelspec": {
   "display_name": "Python 3",
   "language": "python",
   "name": "python3"
  },
  "language_info": {
   "codemirror_mode": {
    "name": "ipython",
    "version": 3
   },
   "file_extension": ".py",
   "mimetype": "text/x-python",
   "name": "python",
   "nbconvert_exporter": "python",
   "pygments_lexer": "ipython3",
   "version": "3.6.5"
  }
 },
 "nbformat": 4,
 "nbformat_minor": 1
}
