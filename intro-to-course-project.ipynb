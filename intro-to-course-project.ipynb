{
 "cells": [
  {
   "cell_type": "markdown",
   "metadata": {
    "slideshow": {
     "slide_type": "slide"
    }
   },
   "source": [
    "# <center> Introduction to Course Project </center>"
   ]
  },
  {
   "cell_type": "markdown",
   "metadata": {
    "slideshow": {
     "slide_type": "slide"
    }
   },
   "source": [
    "#### Introduction\n",
    "\n",
    "- The goal of this project is to walk through the building blocks of modern distributed computing infrastructure\n",
    "\n",
    "- The best way of learning about distributed and cluster computing systems is to build one yourself\n",
    "\n",
    "- We will use Clemson University's research computing infrastructure, including its HPC component (Palmetto), Big Data Analytic component (Cypress), and other peripheral storage compoments as our inspiration. "
   ]
  },
  {
   "cell_type": "markdown",
   "metadata": {
    "slideshow": {
     "slide_type": "slide"
    }
   },
   "source": [
    "#### Overview\n",
    "\n",
    "The project will be divided into five interdepedent assignments:\n",
    "  - Assignment 3: Design and deploy a cluster of computers (S1)\n",
    "  - Assignment 4: Augment the S1 cluster with shared file systems (S2)\n",
    "  - Assignment 5: Design and deploy a Hadoop cluster using Hortonworks' Hadoop Distribution Platform (S3)\n",
    "  - Assignment 6: Integrate S2 and S3 to enable mixed workflows (S4)\n",
    "  - Assignment 7: Augment S4 with a scheduling system (only need to be able to manage component S1)"
   ]
  },
  {
   "cell_type": "markdown",
   "metadata": {
    "slideshow": {
     "slide_type": "slide"
    }
   },
   "source": [
    "#### General Expectation\n",
    "\n",
    "While each assignment will have its own requirements, they all share the following expectations\n",
    "- All assignments will be deployed on CloudLab inside an OpenStack cloud computing environment\n",
    "- Deployment process should be completely automated via Github repositories and Python scripting\n",
    "- Operating System for all components is Oracle Linux 7.4"
   ]
  },
  {
   "cell_type": "markdown",
   "metadata": {
    "slideshow": {
     "slide_type": "slide"
    }
   },
   "source": [
    "#### Team Formation\n",
    "\n",
    "- All remaining assignments are team assignments (mandantory)\n",
    "- Each team can have a maximum of three members\n",
    "- Each team needs to maintain a public Github repository containing their CloudLab profile for the assignments. This repository will be reused and updated as we progress through the assignments"
   ]
  },
  {
   "cell_type": "markdown",
   "metadata": {
    "slideshow": {
     "slide_type": "slide"
    }
   },
   "source": [
    "#### Resources\n",
    "\n",
    "- You are welcome to find and use any resources that provide additional instructions and detailed guidance in setting up the infrastructures\n",
    "- You are encouraged to exchange ideas and expertise with your classmates, preferably over the Discussion board in Canvas\n",
    "- Some examples:\n",
    "  - Oracle Linux Adminstrator Guide: https://docs.oracle.com/cd/E52668_01/E54669/html/index.html#\n",
    "  - NFS Installation: https://www.howtoforge.com/nfs-server-and-client-on-centos-7\n",
    "  - Hortonworks Hadoop Installation: https://github.com/linhbngo/hadoopOnGeni"
   ]
  },
  {
   "cell_type": "markdown",
   "metadata": {
    "slideshow": {
     "slide_type": "slide"
    }
   },
   "source": [
    "#### Additional Work for Graduate Students\n",
    "\n",
    "You are to select and write a 8-10 pages literature survey on one of the following topics (first come first serve)\n",
    "- Libraries and frameworks for distributed and parallel file systems\n",
    "- Libraries and frameworks for schedulers in computer clusters\n",
    "- Libraries and frameworks for distributed stream processing systems\n",
    "- Libraries and frameworks for message-oriented-middleware systems"
   ]
  }
 ],
 "metadata": {
  "celltoolbar": "Slideshow",
  "kernelspec": {
   "display_name": "Python 3 (Anaconda)",
   "language": "python",
   "name": "anaconda_py3"
  },
  "language_info": {
   "codemirror_mode": {
    "name": "ipython",
    "version": 3
   },
   "file_extension": ".py",
   "mimetype": "text/x-python",
   "name": "python",
   "nbconvert_exporter": "python",
   "pygments_lexer": "ipython3",
   "version": "3.5.2"
  }
 },
 "nbformat": 4,
 "nbformat_minor": 1
}
