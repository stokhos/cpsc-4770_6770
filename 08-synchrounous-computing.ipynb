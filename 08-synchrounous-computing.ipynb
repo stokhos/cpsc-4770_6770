{
 "cells": [
  {
   "cell_type": "markdown",
   "metadata": {
    "slideshow": {
     "slide_type": "slide"
    }
   },
   "source": [
    "## <center>Synchronous Computing</center>\n",
    "### <center> Linh B. Ngo </center>"
   ]
  },
  {
   "cell_type": "markdown",
   "metadata": {
    "slideshow": {
     "slide_type": "slide"
    }
   },
   "source": [
    "#### Synchronous Computation\n",
    "\n",
    "In a (fully) synchronous computation, all the processes synchronized at regular points, usually to exchange data or to make sure that every process has gone through the same set of procedures (to update their own data) before proceeding."
   ]
  },
  {
   "cell_type": "code",
   "execution_count": 1,
   "metadata": {
    "slideshow": {
     "slide_type": "slide"
    }
   },
   "outputs": [
    {
     "name": "stdout",
     "output_type": "stream",
     "text": [
      "Overwriting codes/openmpi/nobarrier.c\n"
     ]
    }
   ],
   "source": [
    "%%writefile codes/openmpi/nobarrier.c\n",
    "#include <stdio.h>\n",
    "#include <unistd.h>\n",
    "#include <mpi.h>\n",
    "int main(int argc, char *argv[]){\n",
    "  int rank;\n",
    "\n",
    "  MPI_Init(&argc, &argv);\n",
    "  MPI_Comm_rank(MPI_COMM_WORLD, &rank);\n",
    "\n",
    "  if (rank == 0){\n",
    "    sleep(5);\n",
    "  }\n",
    "  printf(\"Process %d is awake! \\n\", rank);\n",
    "  MPI_Finalize();\n",
    "  return 0;\n",
    "}"
   ]
  },
  {
   "cell_type": "code",
   "execution_count": 2,
   "metadata": {
    "slideshow": {
     "slide_type": "slide"
    }
   },
   "outputs": [
    {
     "name": "stdout",
     "output_type": "stream",
     "text": [
      "Process 1 is awake! \n",
      "Process 6 is awake! \n",
      "Process 5 is awake! \n",
      "Process 4 is awake! \n",
      "Process 2 is awake! \n",
      "Process 7 is awake! \n",
      "Process 3 is awake! \n",
      "Process 0 is awake! \n"
     ]
    }
   ],
   "source": [
    "!mpicc codes/openmpi/nobarrier.c -o ~/nobarrier\n",
    "!mpirun -np 8 --map-by core:OVERSUBSCRIBE ~/nobarrier"
   ]
  },
  {
   "cell_type": "code",
   "execution_count": 3,
   "metadata": {
    "slideshow": {
     "slide_type": "slide"
    }
   },
   "outputs": [
    {
     "name": "stdout",
     "output_type": "stream",
     "text": [
      "Overwriting codes/openmpi/barrier.c\n"
     ]
    }
   ],
   "source": [
    "%%writefile codes/openmpi/barrier.c\n",
    "#include <stdio.h>\n",
    "#include <unistd.h>\n",
    "#include <mpi.h>\n",
    "int main(int argc, char *argv[]){\n",
    "  int rank;\n",
    "\n",
    "  MPI_Init(&argc, &argv);\n",
    "  MPI_Comm_rank(MPI_COMM_WORLD, &rank);\n",
    "\n",
    "  if (rank == 0){\n",
    "    sleep(5);\n",
    "  }\n",
    "  MPI_Barrier(MPI_COMM_WORLD);\n",
    "  printf(\"Process %d is awake! \\n\", rank);\n",
    "  MPI_Finalize();\n",
    "  return 0;\n",
    "}"
   ]
  },
  {
   "cell_type": "code",
   "execution_count": 4,
   "metadata": {
    "slideshow": {
     "slide_type": "slide"
    }
   },
   "outputs": [
    {
     "name": "stdout",
     "output_type": "stream",
     "text": [
      "Process 0 is awake! \r\n",
      "Process 2 is awake! \r\n",
      "Process 1 is awake! \r\n",
      "Process 3 is awake! \r\n",
      "Process 4 is awake! \r\n",
      "Process 5 is awake! \r\n",
      "Process 6 is awake! \r\n",
      "Process 7 is awake! \r\n"
     ]
    }
   ],
   "source": [
    "!mpicc codes/openmpi/barrier.c -o ~/barrier\n",
    "!mpirun -np 8 --map-by core:OVERSUBSCRIBE ~/barrier"
   ]
  },
  {
   "cell_type": "markdown",
   "metadata": {
    "slideshow": {
     "slide_type": "slide"
    }
   },
   "source": [
    "#### <center> Barrier </center>"
   ]
  },
  {
   "cell_type": "markdown",
   "metadata": {
    "slideshow": {
     "slide_type": "slide"
    }
   },
   "source": [
    "- A basic mechanism for synchronizing processes - inserted at the point in each process where it must wait\n",
    "- All processes can continue from this point when all the processes have reached it. "
   ]
  },
  {
   "cell_type": "markdown",
   "metadata": {
    "slideshow": {
     "slide_type": "slide"
    }
   },
   "source": [
    "Comm.Barrier()\n",
    "\n",
    "Parameters:\n",
    "- Comm (MPI comm) – communicator on which we are to block processes"
   ]
  },
  {
   "cell_type": "markdown",
   "metadata": {
    "collapsed": true,
    "slideshow": {
     "slide_type": "slide"
    }
   },
   "source": [
    "<center> <img src=\"pictures/08/treebarrier1.png\" width=\"700\"/> \n",
    "<sub>Wilkinson, Barry, and Michael Allen. Parallel programming. 2nd Ed. 2003. </sub>\n",
    "</center>"
   ]
  },
  {
   "cell_type": "markdown",
   "metadata": {
    "slideshow": {
     "slide_type": "slide"
    }
   },
   "source": [
    "<center> <img src=\"pictures/08/treebarrier2.png\" width=\"700\"/> \n",
    "<sub>Wilkinson, Barry, and Michael Allen. Parallel programming. 2nd Ed. 2003. </sub>\n",
    "</center>"
   ]
  },
  {
   "cell_type": "markdown",
   "metadata": {
    "slideshow": {
     "slide_type": "slide"
    }
   },
   "source": [
    "<center> <img src=\"pictures/08/butterflybarrier1.png\" width=\"700\"/> \n",
    "<sub>Wilkinson, Barry, and Michael Allen. Parallel programming. 2nd Ed. 2003. </sub>\n",
    "</center>"
   ]
  },
  {
   "cell_type": "markdown",
   "metadata": {
    "slideshow": {
     "slide_type": "slide"
    }
   },
   "source": [
    "#### <center> Prefix Sum Problem </center>\n",
    "\n",
    "Given a list of numbers, $x_0, ..., x_{n-1}$, compute all partial summations, i.e:\n",
    "- $x_0 + x_1$\n",
    "- $x_0 + x_1 + x_2$\n",
    "- $x_0 + x_1 + x_2 + x_3$\n",
    "- $x_0 + x_1 + x_2 + x_3 + x_4$\n",
    "- ...\n",
    "\n",
    "Widely studied with practical applications in process allocation, data compaction, sorting, and polynomial evaluation. "
   ]
  },
  {
   "cell_type": "markdown",
   "metadata": {
    "slideshow": {
     "slide_type": "slide"
    }
   },
   "source": [
    "<center> <img src=\"pictures/08/prefixsum.png\" width=\"700\"/> \n",
    "<sub>Wilkinson, Barry, and Michael Allen. Parallel programming. 2nd Ed. 2003. </sub>\n",
    "</center>"
   ]
  },
  {
   "cell_type": "code",
   "execution_count": 7,
   "metadata": {
    "slideshow": {
     "slide_type": "slide"
    }
   },
   "outputs": [
    {
     "name": "stdout",
     "output_type": "stream",
     "text": [
      "Overwriting codes/openmpi/prefix.c\n"
     ]
    }
   ],
   "source": [
    "%%writefile codes/openmpi/prefix.c\n",
    "#include <stdio.h>\n",
    "#include <stdlib.h>\n",
    "#include \"mpi.h\"\n",
    "#include <math.h>\n",
    "\n",
    "int main(int argc, char** argv){\n",
    "  int rank, size;\n",
    "  MPI_Status status;\n",
    "  int local_sum, tmp;\n",
    "  int i, iter;\n",
    "  int distance;\n",
    "\n",
    "  MPI_Init(&argc, &argv);\n",
    "  MPI_Comm_rank(MPI_COMM_WORLD,&rank);\n",
    "  MPI_Comm_size(MPI_COMM_WORLD,&size);\n",
    "\n",
    "  local_sum = rank;\n",
    "  tmp = 0;\n",
    "\n",
    "  iter = log(size) / log(2);\n",
    "  printf(\"Process %d has prefix sum %d\\n\", rank, local_sum);\n",
    "  MPI_Barrier(MPI_COMM_WORLD);\n",
    "  for (i = 0; i < iter; i++){\n",
    "    distance = pow(2,i);\n",
    "\n",
    "    if (rank == 0){\n",
    "      printf(\"iter %d and distance %d\\n\", i, distance);\n",
    "    }      \n",
    "    if (rank < (size - distance)){\n",
    "      MPI_Send(&local_sum, 1, MPI_INT, rank + distance, 0, MPI_COMM_WORLD);\n",
    "      printf(\"%d send to %d value %d\\n\",rank, rank+distance, local_sum);\n",
    "\n",
    "    }\n",
    "    if (rank >= distance){\n",
    "      printf(\"%d receive from %d \\n\", rank, rank - distance);\n",
    "      MPI_Recv(&tmp, 1, MPI_INT, rank - distance, 0, MPI_COMM_WORLD, &status);\n",
    "      printf(\"%d receive from %d value %d\\n\",rank, rank-distance, tmp);\n",
    "      local_sum += tmp;\n",
    "    }\n",
    "    printf(\"Process %d has prefix sum %d\\n\", rank, local_sum);\n",
    "    MPI_Barrier(MPI_COMM_WORLD);\n",
    "  }\n",
    "  MPI_Finalize();\n",
    "  return 0;\n",
    "}"
   ]
  },
  {
   "cell_type": "code",
   "execution_count": 8,
   "metadata": {
    "slideshow": {
     "slide_type": "slide"
    }
   },
   "outputs": [
    {
     "name": "stdout",
     "output_type": "stream",
     "text": [
      "Process 0 has prefix sum 0\r\n",
      "Process 1 has prefix sum 1\r\n",
      "Process 2 has prefix sum 2\r\n",
      "Process 3 has prefix sum 3\r\n",
      "Process 5 has prefix sum 5\r\n",
      "Process 7 has prefix sum 7\r\n",
      "Process 4 has prefix sum 4\r\n",
      "7 receive from 6 \r\n",
      "7 receive from 6 value 6\r\n",
      "Process 7 has prefix sum 13\r\n",
      "Process 6 has prefix sum 6\r\n",
      "6 send to 7 value 6\r\n",
      "6 receive from 5 \r\n",
      "5 send to 6 value 5\r\n",
      "5 receive from 4 \r\n",
      "2 send to 3 value 2\r\n",
      "2 receive from 1 \r\n",
      "4 send to 5 value 4\r\n",
      "4 receive from 3 \r\n",
      "4 receive from 3 value 3\r\n",
      "Process 4 has prefix sum 7\r\n",
      "3 send to 4 value 3\r\n",
      "3 receive from 2 \r\n",
      "3 receive from 2 value 2\r\n",
      "Process 3 has prefix sum 5\r\n",
      "1 send to 2 value 1\r\n",
      "1 receive from 0 \r\n",
      "1 receive from 0 value 0\r\n",
      "Process 1 has prefix sum 1\r\n",
      "5 receive from 4 value 4\r\n",
      "Process 5 has prefix sum 9\r\n",
      "iter 0 and distance 1\r\n",
      "0 send to 1 value 0\r\n",
      "Process 0 has prefix sum 0\r\n",
      "2 receive from 1 value 1\r\n",
      "Process 2 has prefix sum 3\r\n",
      "5 send to 7 value 9\r\n",
      "5 receive from 3 \r\n",
      "7 receive from 5 \r\n",
      "7 receive from 5 value 9\r\n",
      "Process 7 has prefix sum 22\r\n",
      "6 receive from 5 value 5\r\n",
      "Process 6 has prefix sum 11\r\n",
      "6 receive from 4 \r\n",
      "2 send to 4 value 3\r\n",
      "2 receive from 0 \r\n",
      "4 send to 6 value 7\r\n",
      "4 receive from 2 \r\n",
      "4 receive from 2 value 3\r\n",
      "Process 4 has prefix sum 10\r\n",
      "1 send to 3 value 1\r\n",
      "Process 1 has prefix sum 1\r\n",
      "6 receive from 4 value 7\r\n",
      "Process 6 has prefix sum 18\r\n",
      "iter 1 and distance 2\r\n",
      "0 send to 2 value 0\r\n",
      "Process 0 has prefix sum 0\r\n",
      "2 receive from 0 value 0\r\n",
      "Process 2 has prefix sum 3\r\n",
      "2 send to 6 value 3\r\n",
      "Process 2 has prefix sum 3\r\n",
      "5 receive from 3 value 5\r\n",
      "Process 5 has prefix sum 14\r\n",
      "3 send to 5 value 5\r\n",
      "3 receive from 1 \r\n",
      "3 receive from 1 value 1\r\n",
      "Process 3 has prefix sum 6\r\n",
      "4 receive from 0 \r\n",
      "4 receive from 0 value 0\r\n",
      "Process 4 has prefix sum 10\r\n",
      "6 receive from 2 \r\n",
      "6 receive from 2 value 3\r\n",
      "Process 6 has prefix sum 21\r\n",
      "iter 2 and distance 4\r\n",
      "0 send to 4 value 0\r\n",
      "Process 0 has prefix sum 0\r\n",
      "7 receive from 3 \r\n",
      "5 receive from 1 \r\n",
      "5 receive from 1 value 1\r\n",
      "Process 5 has prefix sum 15\r\n",
      "1 send to 5 value 1\r\n",
      "Process 1 has prefix sum 1\r\n",
      "3 send to 7 value 6\r\n",
      "Process 3 has prefix sum 6\r\n",
      "7 receive from 3 value 6\r\n",
      "Process 7 has prefix sum 28\r\n"
     ]
    }
   ],
   "source": [
    "!mpicc codes/openmpi/prefix.c -lm -o ~/prefix\n",
    "!mpirun -np 8 --map-by core:OVERSUBSCRIBE ~/prefix"
   ]
  }
 ],
 "metadata": {
  "celltoolbar": "Slideshow",
  "kernelspec": {
   "display_name": "Python 3",
   "language": "python",
   "name": "python3"
  },
  "language_info": {
   "codemirror_mode": {
    "name": "ipython",
    "version": 3
   },
   "file_extension": ".py",
   "mimetype": "text/x-python",
   "name": "python",
   "nbconvert_exporter": "python",
   "pygments_lexer": "ipython3",
   "version": "3.6.5"
  }
 },
 "nbformat": 4,
 "nbformat_minor": 1
}
