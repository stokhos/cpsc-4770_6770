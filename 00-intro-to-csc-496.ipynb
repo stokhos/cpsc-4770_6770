{
 "cells": [
  {
   "cell_type": "markdown",
   "metadata": {
    "slideshow": {
     "slide_type": "slide"
    }
   },
   "source": [
    "## <center>CSC 496: Distributed and Cluster Computing </center>\n",
    "### <center> Linh B. Ngo </center>"
   ]
  },
  {
   "cell_type": "markdown",
   "metadata": {
    "slideshow": {
     "slide_type": "slide"
    }
   },
   "source": [
    "### Course Information\n",
    "\n",
    "- External Link to Lecture and Assignment Sources: https://github.com/linhbngo/Distributed-and-Cluster-Computing/ "
   ]
  },
  {
   "cell_type": "markdown",
   "metadata": {
    "slideshow": {
     "slide_type": "slide"
    }
   },
   "source": [
    "### Instructional Staff\n",
    "\n",
    "#### Instructor: Linh B. Ngo\n",
    "\n",
    "- Email: LNGO at WCUPA dot EDU\n",
    "- Office: 144 UNA (25 University Avenue)\n",
    "- Office Hours: \n",
    "  - MWF 10:00AM to 11:00AM \n",
    "  - TR 3:30PM to 5:00PM"
   ]
  },
  {
   "cell_type": "markdown",
   "metadata": {
    "slideshow": {
     "slide_type": "slide"
    }
   },
   "source": [
    "### Course Descriptions\n",
    "\n",
    "This course will investigate issues in modern distributed platforms by examining a number of important technologies in the areas of distributed computing in computational and data-intensive problems.\n",
    "\n",
    "By the end of the course, each student should understand and be able to apply several specific tradeoffs for parallel application and algorithms development, performance, and management on a number of distributed platforms."
   ]
  },
  {
   "cell_type": "markdown",
   "metadata": {
    "slideshow": {
     "slide_type": "slide"
    }
   },
   "source": [
    "### Learning Objectives\n",
    "- Students will be able to apply mathematical foundations, algorithmic principles, and computer science theory in the modeling and design of computer-based systems in a way that demonstrates comprehension of the tradeoffs involved in design choices.\n",
    "- Students will be able to analyze a problem, and identify and define the computing requirements appropriate to its solution.\n",
    "- Students will be able to apply design and development principles in the construction of large-scale computing systems.\n",
    "- Students will be able to function effectively on teams to accomplish a common goal."
   ]
  },
  {
   "cell_type": "markdown",
   "metadata": {
    "slideshow": {
     "slide_type": "slide"
    }
   },
   "source": [
    "### Prerequisites\n",
    "\n",
    "- Working knowledge of C/C++, Java, and Linux system\n",
    "- Working knowledge of data structures and algorithms\n",
    "- Not being afraid of learning new languages (Python, Scala)"
   ]
  },
  {
   "cell_type": "markdown",
   "metadata": {
    "slideshow": {
     "slide_type": "slide"
    }
   },
   "source": [
    "### Important Dates\n",
    "\n",
    "- Tue, Sep 04, 2018: Last Day of Add/Drop\n",
    "- Tue, Oct 23, 2018: Last Day of Course Withdrawal\n",
    "- Tue, Nov 20, 2018: Reading/Writing Day\n",
    "- Thu, Nov 22, 2018: Fall/Thanksgiving Break\n",
    "- **Thu, Dec 13 06:00PM to 08:00PM: FINAL EXAM**"
   ]
  },
  {
   "cell_type": "markdown",
   "metadata": {
    "slideshow": {
     "slide_type": "slide"
    }
   },
   "source": [
    "### Laptop requirements\n",
    "\n",
    "- Having access to a laptop during class time is critical\n",
    "    + Working with supercomputing resources in class\n",
    "    + Working on in-class electronic quizzes on D2L\n",
    "- Make sure that your laptop is fully charged for the duration of the class (or come in early and get a spot with access to power outlets)"
   ]
  },
  {
   "cell_type": "markdown",
   "metadata": {
    "slideshow": {
     "slide_type": "slide"
    }
   },
   "source": [
    "### Software requirements\n",
    "\n",
    "As laptop style and model can vary, the following common (and free) software environment will be enforced for all lectures and programming assignments:\n",
    "\n",
    "- Virtual Enronment: [Oracle VirtualBox](https://www.virtualbox.org/)\n",
    "- Virtual OS for VirtualBox: [CentOS 7 64-bit](http://isoredirect.centos.org/centos/7/isos/x86_64/CentOS-7-x86_64-DVD-1804.iso)\n",
    "\n",
    "Other software packages will be specified and installed insite the CentOS virtual machine as needed. "
   ]
  },
  {
   "cell_type": "markdown",
   "metadata": {
    "slideshow": {
     "slide_type": "slide"
    }
   },
   "source": [
    "### Course Materials\n",
    "\n",
    "- Lecture slides and example codes will be available online via links inside the course’ D2L page\n",
    "\n",
    "- Links to papers on subjects we will be discussing in class will also be listed and/or embedded in the slides. \n",
    "    + West Chester University maintains extensive licensed products to academic publishers such as ACM, IEEE, Elsevier, and Springer, and many of the papers required for this course will be available through the library's online database. \n",
    "    + Google Scholar is another excellent source for downloading preprint or open-source versions of papers. \n"
   ]
  },
  {
   "cell_type": "markdown",
   "metadata": {
    "slideshow": {
     "slide_type": "slide"
    }
   },
   "source": [
    "### Grading\n",
    "\n",
    "Grades will be based on the following distribution:\n",
    "\n",
    "- Assignment: \n",
    "    + Assignment: 60%\n",
    "- Exam:  \n",
    "    + Exam 1: 15% \n",
    "    + Exam 2: 10% (Comprehensive)\n",
    "- Quiz: 10%\n",
    "- Participation: 5%"
   ]
  },
  {
   "cell_type": "markdown",
   "metadata": {
    "slideshow": {
     "slide_type": "slide"
    }
   },
   "source": [
    "### Participation\n",
    "\n",
    "- Participation accounts for 5% of your grade. \n",
    "- This part of your grade will be determined by:\n",
    "  - whether or not you show up to office hours, and\n",
    "  - how actively you participate (ask questions, make comments, contribute to activities) during class. \n",
    "- Participation grades will be assigned in a coarsely manner:\n",
    "  - 100% to students who are fully engaged active participants, \n",
    "  - 50% to students who are nominally engaged (physically there and willing to participate when asked to), and \n",
    "  - 0% for students who really aren't engaged (trying to hide).\n"
   ]
  },
  {
   "cell_type": "markdown",
   "metadata": {
    "slideshow": {
     "slide_type": "slide"
    }
   },
   "source": [
    "### Office Hours:\n",
    "\n",
    "- Office hours are an opportunity to reinforce course topics either one-on-one or in small groups. If you are unable to attend during the posted time slots, I am happy to make an appointment.\n",
    "\n",
    "- You are required to come to office hours at least once (with something to discuss) before October 1st. **If you don't, your participation score for the semester will be zero (0).**"
   ]
  },
  {
   "cell_type": "markdown",
   "metadata": {
    "slideshow": {
     "slide_type": "slide"
    }
   },
   "source": [
    "Letter grades are assigned according to the standard scale: (i.e. A: 90-100, B: 80-89, C: 70-79, D: 60-69, F: 0-59).\n",
    "\n",
    "| Number   | 100-93 | 92-90 | 89-87 | 86-83 | 82-80 | 79-77 | 76-73 | 72-70 | 69-67 | 66-63 | 62-60 | <= 59 |\n",
    "| -------- |:------:|:-----:|:-----:|:-----:|:-----:|:-----:|:-----:|:-----:|:-----:|:-----:|:-----:|:-----:|\n",
    "| Letter   |    A   |   A-  |   B+  |   B   |   B-  |   C+  |   C   |   C-  |   D+  |   D   |   D-  |    F  |\n"
   ]
  },
  {
   "cell_type": "markdown",
   "metadata": {
    "slideshow": {
     "slide_type": "slide"
    }
   },
   "source": [
    "### Grading Appeals\n",
    "\n",
    "Mistakes occasionally happen during the grading process. If you think a mistake has been made regarding your grades, you should send me an email with detailed justification within one week of the date the grades are available. No changes on grades will be made after one week from the date the grades are posted. "
   ]
  },
  {
   "cell_type": "markdown",
   "metadata": {
    "slideshow": {
     "slide_type": "slide"
    }
   },
   "source": [
    "### Attendance Policy\n",
    "\n",
    "- Attendance is critical to the success of students in this class. \n",
    "- We will take note of who attends, including occasionally using attendance check in place of a quiz score. \n",
    "- If you miss a class, you are responsible for obtaining lecture notes, handouts, and homework assignments from fellow students. \n",
    "- If the instructor is late for class, please wait 20 minutes before leaving.\n"
   ]
  },
  {
   "cell_type": "markdown",
   "metadata": {
    "slideshow": {
     "slide_type": "slide"
    }
   },
   "source": [
    "### Excused Absences Policy for University-Sanctioned Event\n",
    "\n",
    "- Students are advised to carefully read and comply with the excused absences policy for university-sanctioned events contained in the WCU Undergraduate Catalog. \n",
    "- In particular, please note that the “responsibility for meeting academic requirements rests with the student,” that this policy does not excuse students from completing required academic work, and that professors can require a “fair alternative” to attendance on those days that students must be absent from class in order to participate in a University-Sanctioned Event.\n"
   ]
  },
  {
   "cell_type": "markdown",
   "metadata": {
    "slideshow": {
     "slide_type": "slide"
    }
   },
   "source": [
    "### Late Work\n",
    "\n",
    "- Without prior approval from the instructors, late homework assignments will not be accepted but will be assigned a grade of zero. \n",
    "- Unless accompanied with a valid medical or University excuse, all late submissions will be penalized. \n",
    "- A make-up for the exams will be given only with a valid medical or University excuse. "
   ]
  },
  {
   "cell_type": "markdown",
   "metadata": {
    "slideshow": {
     "slide_type": "slide"
    }
   },
   "source": [
    "### Academic Integrity\n",
    "\n",
    "It is the responsibility of each student to adhere to the university’s standards for academic integrity. Violations of academic integrity include any act that violates the rights of another student in academic work, that involves misrepresentation of your own work, or that disrupts the instruction of the course. Other violations include (but are not limited to): cheating on assignments or examinations; plagiarizing, which means copying any part of another’s work and/or using ideas of another and presenting them as one’s own without giving proper credit to the source; selling, purchasing, or exchanging of term papers; falsifying of information; and using your own work from one class to fulfill the assignment for another class without significant modification. Proof of academic misconduct can result in the automatic failure and removal from this course. "
   ]
  },
  {
   "cell_type": "markdown",
   "metadata": {
    "slideshow": {
     "slide_type": "slide"
    }
   },
   "source": [
    "### Academic Integrity\n",
    "\n",
    "For questions regarding Academic Integrity, Sexual Harassment, or the Student Code of Conduct, students are encouraged to refer to the “Other” Menu of the Computer Science web page www.cs.wcupa.edu/, the Undergraduate Catalog, the Ram’s Eye View, and the University website at www.wcupa.edu."
   ]
  },
  {
   "cell_type": "markdown",
   "metadata": {
    "slideshow": {
     "slide_type": "slide"
    }
   },
   "source": [
    "### Collaboration Policy (for this specific class)\n",
    "\n",
    "- Class assignments are opportunities for learning and discovery. \n",
    "- Collaboration between students on homework assignments in this class is permitted. Collaboration includes students working together to gain an understanding of course concepts, active discussions with the instructor and other people to learn about course material, and other activities in which a student is actively seeking to learn and understand the topics covered in the course. \n",
    "- I do expect that you understand and can explain any homework solution that you submit, no matter how you worked on it.\n"
   ]
  },
  {
   "cell_type": "markdown",
   "metadata": {
    "slideshow": {
     "slide_type": "slide"
    }
   },
   "source": [
    "### Collaboration Policy (for this specific class)\n",
    "\n",
    "- Plagiarism is not allowed. Taking assignments from other classmates or downloading completed assignments from websites is not allowed. \n",
    "- If you collaborate with other students in class or use sources other than those provided for everyone in the course (e.g., instructor, recommended textbook, the course web site, or the lectures) to help yourself learn and understand, then you must give appropriate credit to those collaborators and/or sources. \n"
   ]
  },
  {
   "cell_type": "markdown",
   "metadata": {
    "slideshow": {
     "slide_type": "slide"
    }
   },
   "source": [
    "### Collaboration Policy (for this specific class)\n",
    "- As long as you acknowledge the collaboration that occurred, your grade will not be affected nor will you be charged with academic misconduct. \n",
    "- Any assignment that does not include a collaboration statement will be considered to have been completed with only course materials. If this is found to not be the case, it is considered a failure to acknowledge collaborations or give appropriate credit to sources of help (other than course materials or personnel as noted above) and will be treated as academic dishonesty."
   ]
  },
  {
   "cell_type": "markdown",
   "metadata": {
    "slideshow": {
     "slide_type": "slide"
    }
   },
   "source": [
    "### Collaboration Statement\n",
    "\n",
    "The statement should say:\n",
    "\n",
    "- “I worked on this assignment alone, using only course materials.”\n",
    "\n",
    "OR\n",
    "\n",
    "- “I worked on this assignment with **names of the people you worked with**. My role in completing the assignment was **provide description of all your contributions**, while provide **names of other collaborators** role in completing the assignment was **provide a description of their contributions**. We consulted related material that can be found at **cite any other materials not provided as course materials**.”\n",
    "\n",
    "\n"
   ]
  },
  {
   "cell_type": "markdown",
   "metadata": {
    "slideshow": {
     "slide_type": "slide"
    }
   },
   "source": [
    "### Disability Accommodations\n",
    "\n",
    "- To know more about West Chester University’s Services for  Students with Disabilities (OSSD), contact the OSSD which is located at 223 Lawrence  Center.  The OSSD hours of Operation are Monday – Friday 8:30 a.m. – 4:30 p.m.  Their phone number is 610-436-2564, their fax number is 610-436-2600, their email address is ossd@wcupa.edu, and their website is at www.wcupa.edu/ussss/ossd. \n",
    "- If you have a disability that requires accommodations under the Americans with Disabilities Act (ADA), please present your letter of accommodations to OSSD as soon as possible so that OSSD can support your success in an informed manner.  Accommodations cannot be granted retroactively."
   ]
  },
  {
   "cell_type": "markdown",
   "metadata": {
    "slideshow": {
     "slide_type": "slide"
    }
   },
   "source": [
    "### Title IX Statement\n",
    "\n",
    "- West Chester University and its faculty are committed to assuring a safe and productive educational environment for all students. In order to meet this commitment and to comply with Title IX of the Education Amendments of 1972 and guidance from the Office for Civil Rights, the University requires faculty members to report incidents of sexual violence shared by students to the University's Title IX Coordinator, Ms. Lynn Klingensmith. \n",
    "- The only exceptions to the faculty member's reporting obligation are when incidents of sexual violence are communicated by a student during a classroom discussion, in a writing assignment for a class, or as part of a University-approved research project. Faculty members are obligated to report sexual violence or any other abuse of a student who was, or is, a child (a person under 18 years of age) when the abuse allegedly occurred to the person designated in the University protection of minors policy.  Information regarding the reporting of sexual violence and the resources that are available to victims of sexual violence is set forth at the webpage for the Office of Social Equity at http://www.wcupa.edu/_admin/social.equity/.\n"
   ]
  },
  {
   "cell_type": "markdown",
   "metadata": {
    "slideshow": {
     "slide_type": "slide"
    }
   },
   "source": [
    "### Title IX Statement\n",
    "\n",
    "- Ms. Lynn Klingensmith is the West Chester University Title IX Coordinator and is also the Director of Social Equity. She can be reached at 610-436-2433 or by email at LKlingensmith@wcupa.edu and can connect you to resources both on and on campus, as well as provide information about the processes related to cases of sexual misconduct. \n",
    "\n",
    "- West Chester University community members also have a right to report acts of sexual misconduct to the Office of Civil Rights. They can be contacted at: The Wanamaker Building, 100 Penn Square East, Suite 515, Philadelphia, PA 19107-3323, (215) 656-8541, OCR.Philadelphia@ed.gov"
   ]
  },
  {
   "cell_type": "markdown",
   "metadata": {
    "slideshow": {
     "slide_type": "slide"
    }
   },
   "source": [
    "### Emergency Preparedness\n",
    "\n",
    "- All students are encouraged to sign up for the University’s free WCU ALERT service, which delivers official WCU emergency text messages directly to your cell phone.  \n",
    "- For more information, visit www.wcupa.edu/wcualert. To report an emergency, call the Department of Public Safety at 610-436-3311.\n"
   ]
  },
  {
   "cell_type": "markdown",
   "metadata": {
    "slideshow": {
     "slide_type": "slide"
    }
   },
   "source": [
    "### Electronic Mail Policy\n",
    "\n",
    "- It is expected that faculty, staff, and students activate and maintain regular access to University provided e-mail accounts. \n",
    "- Official university communications, including those from your instructor, will be sent through your university e-mail account. \n",
    "- You are responsible for accessing that mail to be sure to obtain official University communications. \n",
    "- Failure to access will not exempt individuals from the responsibilities associated with this course.\n"
   ]
  },
  {
   "cell_type": "markdown",
   "metadata": {
    "slideshow": {
     "slide_type": "slide"
    }
   },
   "source": [
    "### Instructor Email Policy\n",
    "\n",
    "For individual issue, it is best to contact me via email. I check my email frequently during normal working hours (9-5) on weekdays, and I will try to respond quickly (hopefully the same day). I do also check email on weekends and evenings, but not nearly as frequently (almost never on Sundays). As a result, you should expect longer delays during these times. \n",
    "\n",
    "If you send me an assignment-related email right before a deadline, I may not answer it in time to be helpful."
   ]
  },
  {
   "cell_type": "markdown",
   "metadata": {
    "slideshow": {
     "slide_type": "slide"
    }
   },
   "source": [
    "### How to Succeed in this Class\n",
    "\n",
    "Siemens, G. (2014). Connectivism: A learning theory for the digital age. International Journal of Instructional Technology and Distance Learning, 2(1). January 2005. (5276 citations)\n",
    "\n",
    "- Learning involves the active creation of mental structures, rather than the passive internalization of information acquired from others or from the environment.\n",
    "- Learning (defined as actionable knowledge) can reside outside of ourselves (within an organization or a database), is focused on connecting specialized information sets, and the connections that enable us to learn more are more important than our current state of knowing."
   ]
  },
  {
   "cell_type": "markdown",
   "metadata": {
    "slideshow": {
     "slide_type": "slide"
    }
   },
   "source": [
    "### How to Succeed in this Class\n",
    "\n",
    "Learning approach\n",
    "\n",
    "- Is based on the connective constructivism learning theory\n",
    "- Grading style: Emphasis on what you can learn. You will be graded not only on the correctness of your answers, but also the thought process that takes you to those answers. \n",
    "- Learning to learn (hence the collaboration policy)"
   ]
  },
  {
   "cell_type": "markdown",
   "metadata": {
    "slideshow": {
     "slide_type": "slide"
    }
   },
   "source": [
    "### Git\n",
    "\n",
    "- The class materials, including source codes, will be disseminated via Git. Being able to use Git is a critical skill for most, if not all software developers and/or IT professionals. There are many tutorials already available online for Git. Some of the more helpful ones include [github's](https://try.github.io/), [\"the simple guide\"](http://rogerdudler.github.io/git-guide/), and [atlassian's](https://git-scm.com/docs/gittutorial));\n",
    "\n",
    "- It would be a mistke if you just attempt to access the cloass materials via the web browser. \"This is a mistake. Just learn Git. The command line interface is faster and more powerful, and you're going to need to learn it at some point in your life. Why not today?\" - Dr. Jacob Sorber, Clemson University. "
   ]
  },
  {
   "cell_type": "markdown",
   "metadata": {
    "slideshow": {
     "slide_type": "slide"
    }
   },
   "source": [
    "### Tentative Course Outline\n",
    "\n",
    "- Cluster of Computers\n",
    "- Parallel and Distributed File Systems\n",
    "- High Performance and Data-Intensive Computing\n",
    "- Job Scheduling on Cluster of Computers\n",
    "- Complex Distributed Systems"
   ]
  },
  {
   "cell_type": "markdown",
   "metadata": {
    "slideshow": {
     "slide_type": "slide"
    }
   },
   "source": [
    "## <center> The Demand for Computation Speed </center>"
   ]
  },
  {
   "cell_type": "markdown",
   "metadata": {
    "slideshow": {
     "slide_type": "slide"
    }
   },
   "source": [
    "### Measuring of Speed\n",
    "\n",
    "- FLOPS: Floating-Point Operation Per Second\n",
    "  - $FLOPS=Number\\_of\\_Cores * Average\\_Frequency * Instructions\\_per\\_Cycle$\n",
    "  - First Computer (ENIAC): 500 FLOPS\n",
    "- MFLOPS = 1,000,000 FLOPS\n",
    "- GFLOPS = 1,000,000,000 FLOPS"
   ]
  },
  {
   "cell_type": "code",
   "execution_count": 1,
   "metadata": {
    "slideshow": {
     "slide_type": "slide"
    }
   },
   "outputs": [
    {
     "name": "stdout",
     "output_type": "stream",
     "text": [
      "112.0\n"
     ]
    }
   ],
   "source": [
    "# Intel Core i7-3770K Quad-Core Processor 3.5 GHz (Ivy Bridge):\n",
    "FLOPS = 4 * 3.5 * 8\n",
    "print (FLOPS)\n",
    "\n",
    "# What is the unit? (FLOPS/MFLOPS/GFLOPS) "
   ]
  },
  {
   "cell_type": "markdown",
   "metadata": {
    "slideshow": {
     "slide_type": "slide"
    }
   },
   "source": [
    "### Measuring of Speed\n",
    "\n",
    "- TFLOPS = 1,000,000,000,000 FLOPS\n",
    "    + Intel's ASCI Red was the first supercomputer in the world to achieve 1TFLOPS in 1993\n",
    "    + Simulating the development and maintenance of nuclear weapon\n",
    "- PFLOPS = 1,000,000,000,000,000 FLOPS\n",
    "    + IBM RoadRunner was the first supercomputer to achieve 1PFLOPS in 2008\n",
    "    + China’s Sunway Taihulight is the current fastest supercomputer in the world at 93PFLOPS\n",
    "- EFLOPS = 1,000,000,000,000,000,000 FLOPS\n",
    "    + A21 (first U.S. Exascale computer, 2021, Argonne National Lab)\n",
    "    + Tianhe 3 (first China Exascale computer, 2020, National University of Defense Technology)\n",
    "    + Post-K (first Japan Exascale computer, 2020, RIKEN Center for Computational Science)\n",
    "    + Europe, India, Taiwan on track    "
   ]
  },
  {
   "cell_type": "markdown",
   "metadata": {
    "slideshow": {
     "slide_type": "slide"
    }
   },
   "source": [
    "## <center> Why do we need supercomputer? </center>"
   ]
  },
  {
   "cell_type": "markdown",
   "metadata": {
    "slideshow": {
     "slide_type": "slide"
    }
   },
   "source": [
    "### Forecasting Sandy\n",
    "\n",
    "<center><img src=\"pictures/00/00sandy.png\" width=\"700\"/></center>\n"
   ]
  },
  {
   "cell_type": "markdown",
   "metadata": {
    "slideshow": {
     "slide_type": "slide"
    }
   },
   "source": [
    "### Computational Power for Weather Forecast Agencies (2013)\n",
    "\n",
    "<center><img src=\"pictures/00/weather-computer-2013.png\" width=\"600\"/></center>\n",
    "\n",
    "<center> http://blogs.agu.org/wildwildscience/2013/02/17/seriously-behind-the-numerical-weather-prediction-gap/ </center>"
   ]
  },
  {
   "cell_type": "markdown",
   "metadata": {
    "slideshow": {
     "slide_type": "slide"
    }
   },
   "source": [
    "### Catching up\n",
    "\n",
    "http://www.noaa.gov/noaa-completes-weather-and-climate-supercomputer-upgrades\n",
    "\n",
    "- Two new supercomputers, Luna and Surge\n",
    "- 2.89 PFLOPS each for a total of 5.78 PFLOPS (previous generation is only 776 TFLOPS)\n",
    "- Increase water quantity forecast from 4000 locations to 2.7 million locations (700-fold increase in spatial density)\n",
    "- Can track and forecast 8 storms at any given time\n",
    "- 44.5 million dollars investment\n"
   ]
  },
  {
   "cell_type": "markdown",
   "metadata": {
    "slideshow": {
     "slide_type": "slide"
    }
   },
   "source": [
    "### Reduce manufacturing costs\n",
    "- Boeing tested 77 prototype wing designs for 767\n",
    "- For 787, only 11 wing designs had to be physically developed and tested (7 fold reduction in prototyping cost)\n",
    "  + This is due to more than 800,000 hours of computer simulation\n",
    "\n",
    "*Sources: [Real-World Examples of Supercomputers Used for Economic and Societal Benefits](https://www.cac.cornell.edu/about/pubs/IDCReportRealWorldExamplesOfBenefitsOfSupercomputers.pdf)*"
   ]
  },
  {
   "cell_type": "markdown",
   "metadata": {
    "slideshow": {
     "slide_type": "slide"
    }
   },
   "source": [
    "### Improve Oil and Gas Exploration\n",
    "\n",
    "- Los Alamos National Lab\n",
    "- Development of large-scale data analytic techniques to simulate and predict subsurface fluid distribution, temperature, and pressure\n",
    "- This reduces the need for observation wells (has demonstrated commercial success)\n",
    "\n",
    "*Sources: [Real-World Examples of Supercomputers Used for Economic and Societal Benefits](https://www.cac.cornell.edu/about/pubs/IDCReportRealWorldExamplesOfBenefitsOfSupercomputers.pdf)*"
   ]
  },
  {
   "cell_type": "markdown",
   "metadata": {
    "slideshow": {
     "slide_type": "slide"
    }
   },
   "source": [
    "### Fraud Detection at PayPal \n",
    "\n",
    "- 10M+ logins, 13M+ transactions, 300 variables per events\n",
    "- ~4B inserts, ~8B selects\n",
    "- MPI-like applications, Lustre Parallel File Systems, Hadoop\n",
    "- Saved over \\$700M in fraudulent transactions during their first year of deployment\n",
    "\n",
    "*Sources:*\n",
    "- *[High-Performance Data Analysis](https://hpcuserforum.com/presentations/tuscon2013/IDCHPDABigDataHPC.pdf)*\n",
    "- *[Big Data Meets High Performance Computing](https://www.intel.com/content/dam/www/public/us/en/documents/white-papers/big-data-meets-high-performance-computing-white-paper.pdf)*"
   ]
  },
  {
   "cell_type": "markdown",
   "metadata": {
    "slideshow": {
     "slide_type": "slide"
    }
   },
   "source": [
    "### Development Over Time\n",
    "\n",
    "https://www.top500.org/statistics/overtime/"
   ]
  },
  {
   "cell_type": "markdown",
   "metadata": {
    "slideshow": {
     "slide_type": "slide"
    }
   },
   "source": [
    "### Appendix: Recommended software stack for Laptop to support viewing lecture slides\n",
    "\n",
    "- Python Anaconda (https://www.continuum.io/downloads)\n",
    "- Jupyter Slideshow extension (https://github.com/damianavila/RISE)"
   ]
  }
 ],
 "metadata": {
  "celltoolbar": "Slideshow",
  "kernelspec": {
   "display_name": "Python 3",
   "language": "python",
   "name": "python3"
  },
  "language_info": {
   "codemirror_mode": {
    "name": "ipython",
    "version": 3
   },
   "file_extension": ".py",
   "mimetype": "text/x-python",
   "name": "python",
   "nbconvert_exporter": "python",
   "pygments_lexer": "ipython3",
   "version": "3.6.5"
  }
 },
 "nbformat": 4,
 "nbformat_minor": 1
}
