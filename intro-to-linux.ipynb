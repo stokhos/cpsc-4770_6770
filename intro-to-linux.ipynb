{
 "cells": [
  {
   "cell_type": "markdown",
   "metadata": {
    "slideshow": {
     "slide_type": "slide"
    }
   },
   "source": [
    "## <center> Introduction to the Linux Shell </center>\n",
    "\n",
    "<center> This lecture is based on the [Unix Shell Lesson](http://swcarpentry.github.io/shell-novice/) by [Software Carpentry](https://software-carpentry.org/) </center>"
   ]
  },
  {
   "cell_type": "markdown",
   "metadata": {
    "slideshow": {
     "slide_type": "slide"
    }
   },
   "source": [
    "- When you go to **127.0.0.1:9999** from your browser for the first time, it brings up the content of your home directory in the VM. \n",
    "- From now on, we will refer to this as the Jupyter Home"
   ]
  },
  {
   "cell_type": "markdown",
   "metadata": {
    "slideshow": {
     "slide_type": "slide"
    }
   },
   "source": [
    "\n",
    "### <center> The Linux Shell </center>"
   ]
  },
  {
   "cell_type": "markdown",
   "metadata": {
    "slideshow": {
     "slide_type": "slide"
    }
   },
   "source": [
    "In the Jupyter Home Page\n",
    "- Click **New** on the top right corner\n",
    "- Click **Terminal**"
   ]
  },
  {
   "cell_type": "markdown",
   "metadata": {
    "slideshow": {
     "slide_type": "slide"
    }
   },
   "source": [
    "- You will be presented with a new tab\n",
    "- This is your Linux **terminal** into the CentOS VM"
   ]
  },
  {
   "cell_type": "markdown",
   "metadata": {
    "slideshow": {
     "slide_type": "slide"
    }
   },
   "source": [
    "- A **terminal** is a command-line interface that captures your keyboard interactions and sends them to the Linux **shell**.\n",
    "- A Linux **shell** accepts, inteprets, and sends the appropriate commands, as interpreted from your keyboard inputs, to the Linux operating system for actual execution. "
   ]
  },
  {
   "cell_type": "markdown",
   "metadata": {
    "slideshow": {
     "slide_type": "slide"
    }
   },
   "source": [
    "- There can be many different terminal programs.\n",
    "- There can be many different shell programs. \n",
    "- They vary in term of capabilities and visual presentations. "
   ]
  },
  {
   "cell_type": "markdown",
   "metadata": {
    "slideshow": {
     "slide_type": "slide"
    }
   },
   "source": [
    "- Switch back to the terminal tab\n",
    "- Hit Enter\n",
    "- Type ```ls -F /``` and hit Enter"
   ]
  },
  {
   "cell_type": "markdown",
   "metadata": {
    "slideshow": {
     "slide_type": "slide"
    }
   },
   "source": [
    "```\n",
    "$\n",
    "$ ls -F /\n",
    "bin@  boot/  dev/  etc/  home/  lib@  lib64@  media/  mnt/  opt/  proc/  root/  run/  sbin@  srv/  sys/  tmp/  usr/  var/\n",
    "$\n",
    "```"
   ]
  },
  {
   "cell_type": "markdown",
   "metadata": {
    "slideshow": {
     "slide_type": "slide"
    }
   },
   "source": [
    "- The first line is a **prompt**, indicating that the shell is waiting for input\n",
    "- There might be many different texts for the **prompt**, depending on individual users' configurations\n",
    "- A common notation for the **prompt** in literature is the **\\$** sign"
   ]
  },
  {
   "cell_type": "markdown",
   "metadata": {
    "slideshow": {
     "slide_type": "slide"
    }
   },
   "source": [
    "- In the second prompt, we entered a statement: ```ls -F /```\n",
    "- This statement has three components:\n",
    "  - ```ls``` is the **command**\n",
    "  - ```-F``` is the **flag**, which represents the option selected for the ```ls``` command\n",
    "  - ```/``` is the **argument** for the command\n",
    "- The components are separated by spaces\n",
    "- After the statement is evaluated and the results are printed to the terminal, we are returned to the third prompt."
   ]
  },
  {
   "cell_type": "markdown",
   "metadata": {
    "slideshow": {
     "slide_type": "slide"
    }
   },
   "source": [
    "- Each command is a program. \n",
    "  - We will deal with how these programs are located by the Linux OS later\n",
    "- Linux shell inteprets statements by following the REPL (read-evaluate-print-loop) strategy"
   ]
  },
  {
   "cell_type": "markdown",
   "metadata": {
    "slideshow": {
     "slide_type": "slide"
    }
   },
   "source": [
    "REPL for ```ls -F /```\n",
    "- Read the entire statement that was typed in (in this case ```ls -F /```)\n",
    "  - The shell uses spaces to separate the components of the statement\n",
    "- Evaluate\n",
    "  - Find a program called ```ls```\n",
    "  - Pass the flag and argument to this program\n",
    "  - Execute the program together with the flag and argument\n",
    "- Print the output produced by the program\n",
    "- Loop back and present a new prompt to the user for the next statement"
   ]
  },
  {
   "cell_type": "markdown",
   "metadata": {
    "slideshow": {
     "slide_type": "slide"
    }
   },
   "source": [
    "**Excercise**\n",
    "- Switch to the terminal tab\n",
    "- Execute `git clone https://github.com/linhbngo/Distributed-and-Cluster-Computing.git`\n",
    "- Traverse to the Jupyter Home Page and open this notebook"
   ]
  },
  {
   "cell_type": "markdown",
   "metadata": {
    "slideshow": {
     "slide_type": "slide"
    }
   },
   "source": [
    "### <center>Navigating Files and Directories</center>"
   ]
  },
  {
   "cell_type": "markdown",
   "metadata": {
    "slideshow": {
     "slide_type": "slide"
    }
   },
   "source": [
    "- The operating system *executes* the programs.\n",
    "- The actual contents (programming instructions and data) are stored in the **file system**.\n",
    "- The file system organized your data in **directories** (or **folders**) and **files**."
   ]
  },
  {
   "cell_type": "markdown",
   "metadata": {
    "slideshow": {
     "slide_type": "slide"
    }
   },
   "source": [
    "- To execute the right program, you need to let the OS knows there the program is located in the file system (and where the data is located)."
   ]
  },
  {
   "cell_type": "markdown",
   "metadata": {
    "slideshow": {
     "slide_type": "slide"
    }
   },
   "source": [
    "- Where you (your terminal) currently are in the file system?\n",
    "- Switch to the terminal tab, type the command **pwd** and hit Enter.\n",
    "- **pwd** stands for *path to working directory*"
   ]
  },
  {
   "cell_type": "markdown",
   "metadata": {
    "slideshow": {
     "slide_type": "slide"
    }
   },
   "source": [
    "- Typically, users start out in their **home** directory.\n",
    "- Safe and secure space (most of the time!!!).\n",
    "- Users have full modification control over items (files and folders) in their home directory.\n",
    "- ```/home/<USER_NAME>```\n",
    "- A statement (a string) describing the location of files or directories is called a **path**."
   ]
  },
  {
   "cell_type": "markdown",
   "metadata": {
    "slideshow": {
     "slide_type": "slide"
    }
   },
   "source": [
    "- The forward slash (```/```) has two meanings:\n",
    "  - If it stands alone, or if it starts as the first position in a path, then it represents the **root** directory. \n",
    "  - The **root** directory is the master directory of a file system, which holds everything else in the file system.\n",
    "  - If it appears in the middle of a path, then it acts as a separator."
   ]
  },
  {
   "cell_type": "markdown",
   "metadata": {
    "slideshow": {
     "slide_type": "slide"
    }
   },
   "source": [
    "- First navigation command: ```ls```\n",
    "- Stands for **listing**\n",
    "- Shows all files/directories in a location\n",
    "- Switch to the terminal tab and run ```ls``` from the prompt."
   ]
  },
  {
   "cell_type": "markdown",
   "metadata": {
    "slideshow": {
     "slide_type": "slide"
    }
   },
   "source": [
    "- ```ls``` has many options.\n",
    "- To view the options of ```ls```, run ```ls --help```\n",
    "- ```--help``` is a standard flag in the majority of standard commands in the Linux OS. It shows the general options available to the commands. "
   ]
  },
  {
   "cell_type": "markdown",
   "metadata": {
    "slideshow": {
     "slide_type": "slide"
    }
   },
   "source": [
    "- If you want more in-depth discussion of this option, type ```man ls``.\n",
    "- Stands for **manual**. "
   ]
  },
  {
   "cell_type": "markdown",
   "metadata": {
    "slideshow": {
     "slide_type": "slide"
    }
   },
   "source": [
    "**Exercise**\n",
    "- What does ```ls``` do when used with `-l` and `-h` flags?\n",
    "- What flag should I use if I want to\n",
    "  - list the contents of nested directories?\n",
    "  - list the contents of nested directories and sort them by order of time of last change?"
   ]
  },
  {
   "cell_type": "markdown",
   "metadata": {
    "slideshow": {
     "slide_type": "slide"
    }
   },
   "source": [
    "- Command `cd` is used to *change directory*\n",
    "- Shortcuts:\n",
    "  `~`: your home directory\n",
    "  `..`: directory one level above the current directory"
   ]
  },
  {
   "cell_type": "markdown",
   "metadata": {
    "slideshow": {
     "slide_type": "slide"
    }
   },
   "source": [
    "- Relative path: Room 147\n",
    "- Absolute path: Room 147, UNA Building, West Chester University, West Chester, Pennvylvania, USA, Earth, Solar System ..."
   ]
  },
  {
   "cell_type": "markdown",
   "metadata": {
    "slideshow": {
     "slide_type": "slide"
    }
   },
   "source": [
    "### <center> Working with Files and Directories </center>"
   ]
  },
  {
   "cell_type": "markdown",
   "metadata": {
    "slideshow": {
     "slide_type": "slide"
    }
   },
   "source": [
    "\n",
    "- `mkdir`: Make new directory\n",
    "- `cp`: Copy files or directories\n",
    "- `rm`: Remove files or directories\n",
    "- `mv`: Move files or directories to a new location"
   ]
  },
  {
   "cell_type": "markdown",
   "metadata": {
    "slideshow": {
     "slide_type": "slide"
    }
   },
   "source": [
    "- In-terminal editor: `nano`\n",
    "  - `^`: Ctrl"
   ]
  },
  {
   "cell_type": "markdown",
   "metadata": {
    "slideshow": {
     "slide_type": "slide"
    }
   },
   "source": [
    "- Anaconda-based editor:\n",
    "  - From Jupyter Home Page, click **New** and then **Text**\n",
    "  - The editor is in browser, supports keyword-hightlighting for the majority of programming languages\n",
    "  - The file is created in the directory that the Home Page currently points to.\n",
    "- Remember to save!"
   ]
  },
  {
   "cell_type": "markdown",
   "metadata": {
    "slideshow": {
     "slide_type": "slide"
    }
   },
   "source": [
    "### Writing and compiling C codes in a Linux environment"
   ]
  },
  {
   "cell_type": "markdown",
   "metadata": {
    "slideshow": {
     "slide_type": "slide"
    }
   },
   "source": [
    "Rough analogies:\n",
    "- Java versus C: English language versus German language\n",
    "- GUI IDE versus command line IDE: spoken language versus written language"
   ]
  },
  {
   "cell_type": "markdown",
   "metadata": {
    "slideshow": {
     "slide_type": "slide"
    }
   },
   "source": [
    "- Create a new text file from Anaconda text editor\n",
    "- Change the file name to *hello.c*\n",
    "- Copy the C content in the next cell and save:"
   ]
  },
  {
   "cell_type": "code",
   "execution_count": null,
   "metadata": {
    "slideshow": {
     "slide_type": "slide"
    }
   },
   "outputs": [],
   "source": [
    "#include <stdio.h>\n",
    "int main()\n",
    "{\n",
    "   // printf() displays the string inside quotation\n",
    "   printf(\"Hello, World!\");\n",
    "   return 0;\n",
    "}"
   ]
  },
  {
   "cell_type": "code",
   "execution_count": null,
   "metadata": {
    "slideshow": {
     "slide_type": "slide"
    }
   },
   "outputs": [],
   "source": [
    "// This is for comparison against the previous cell only, do not save this into your hello.c file\n",
    "public class HelloWorld {\n",
    "\n",
    "    public static void main(String[] args) {\n",
    "        // Prints \"Hello, World\" to the terminal window.\n",
    "        System.out.println(\"Hello, World\");\n",
    "    }\n",
    "\n",
    "}"
   ]
  },
  {
   "cell_type": "markdown",
   "metadata": {
    "slideshow": {
     "slide_type": "slide"
    }
   },
   "source": [
    "To compile and run:\n",
    "```\n",
    "$ gcc -o hello hello.c\n",
    "$ ./hello\n",
    "```"
   ]
  }
 ],
 "metadata": {
  "celltoolbar": "Slideshow",
  "kernelspec": {
   "display_name": "Python 3",
   "language": "python",
   "name": "python3"
  },
  "language_info": {
   "codemirror_mode": {
    "name": "ipython",
    "version": 3
   },
   "file_extension": ".py",
   "mimetype": "text/x-python",
   "name": "python",
   "nbconvert_exporter": "python",
   "pygments_lexer": "ipython3",
   "version": "3.6.5"
  }
 },
 "nbformat": 4,
 "nbformat_minor": 2
}
