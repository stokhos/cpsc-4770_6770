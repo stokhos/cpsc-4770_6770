{
 "cells": [
  {
   "cell_type": "markdown",
   "metadata": {
    "slideshow": {
     "slide_type": "slide"
    }
   },
   "source": [
    "## <center> Introduction to Clemson Computing Resources </center>\n",
    "\n",
    "#### <center> Linh B. Ngo </center>"
   ]
  },
  {
   "cell_type": "markdown",
   "metadata": {
    "slideshow": {
     "slide_type": "slide"
    }
   },
   "source": [
    "### <center> Computing Resources Requirement </center>"
   ]
  },
  {
   "cell_type": "markdown",
   "metadata": {
    "slideshow": {
     "slide_type": "subslide"
    }
   },
   "source": [
    "Assignments and projects will include components that require execution and evaluation on distributed computing resources available to Clemson students"
   ]
  },
  {
   "cell_type": "markdown",
   "metadata": {
    "slideshow": {
     "slide_type": "fragment"
    }
   },
   "source": [
    "- Shared high performance computing environment (non-root): Palmetto Supercomputer"
   ]
  },
  {
   "cell_type": "markdown",
   "metadata": {
    "slideshow": {
     "slide_type": "fragment"
    }
   },
   "source": [
    "- Shared data-intensive computing environment (non-root): Cypress Hadoop Cluster"
   ]
  },
  {
   "cell_type": "markdown",
   "metadata": {
    "slideshow": {
     "slide_type": "fragment"
    }
   },
   "source": [
    "- Isolated experimental environment for small clusters (root): CloudLab"
   ]
  },
  {
   "cell_type": "markdown",
   "metadata": {
    "slideshow": {
     "slide_type": "fragment"
    }
   },
   "source": [
    "- Remote computing resources (non-root): XSEDE"
   ]
  },
  {
   "cell_type": "markdown",
   "metadata": {
    "slideshow": {
     "slide_type": "subslide"
    }
   },
   "source": [
    "### <center> These resources are shared among all Clemson faculty and students, and in the case of CloudLab and XSEDE, nationally. It is your responsibility to submit your jobs to these resources early enough to ensure that you can meet deadlines for assignments and projects </center>"
   ]
  },
  {
   "cell_type": "markdown",
   "metadata": {
    "slideshow": {
     "slide_type": "slide"
    }
   },
   "source": [
    "### <center> Palmetto Supercomputer"
   ]
  },
  {
   "cell_type": "markdown",
   "metadata": {
    "slideshow": {
     "slide_type": "slide"
    }
   },
   "source": [
    "- Ranked $172^{nd}$ on the TOP500 list ($8^{th}$ among all U.S. academic institutions)\n",
    "- Sustained 870.0 TFLOPS in June 2017 (from 814.4 TFLOPS in November 2016)\n",
    "- Highly heterogeneous (more than 14 purchasing phases)\n",
    "- 2022 compute nodes, 23863 cores"
   ]
  },
  {
   "cell_type": "markdown",
   "metadata": {
    "slideshow": {
     "slide_type": "slide"
    }
   },
   "source": [
    "- 458 nodes are equipped with NVIDIA Tesla GPUs: \n",
    "        - 280 nodes with NVIDIA K20 GPUs (2 per node)\n",
    "        - 138 nodes with NVIDIA K40 GPUs (2 per node)\n",
    "        - 40 nodes with NVIDIA P100 GPUs (2 per node)\n",
    "- 4 nodes with Intel Phi co-processors (2 per node)\n",
    "- 7 large memory nodes (5 with 505GB, 1 with 2TB, 1 with 15TB), 334 nodes with 128GB of memory\n",
    "- 100GB of personal space (backed up daily for 42 days)\n",
    "- Myrinet, 10Gbps Ethernet, Infiniband networks\n",
    "- Global and local scratch spaces for temporary files (no quota per user - 522TB across all scratch spaces)"
   ]
  },
  {
   "cell_type": "markdown",
   "metadata": {
    "slideshow": {
     "slide_type": "slide"
    }
   },
   "source": [
    "** Who uses Palmetto? **"
   ]
  },
  {
   "cell_type": "markdown",
   "metadata": {
    "slideshow": {
     "slide_type": "slide"
    }
   },
   "source": [
    "<center> <img src=\"pictures/02/usage-2013.png\" width=\"800\"/>"
   ]
  },
  {
   "cell_type": "markdown",
   "metadata": {
    "slideshow": {
     "slide_type": "slide"
    }
   },
   "source": [
    "<center> <img src=\"pictures/02/usage_by_department.png\" width=\"800\"/>"
   ]
  },
  {
   "cell_type": "markdown",
   "metadata": {
    "slideshow": {
     "slide_type": "slide"
    }
   },
   "source": [
    "<center> Detailed information and guide:\n",
    "\n",
    "<center> **https://www.palmetto.clemson.edu/palmetto**"
   ]
  },
  {
   "cell_type": "markdown",
   "metadata": {
    "slideshow": {
     "slide_type": "slide"
    }
   },
   "source": [
    "### <center> How to connect to Palmetto via Command-Line Terminal?\n",
    "\n",
    "<center> https://www.palmetto.clemson.edu/palmetto/userguide_basic_usage.html"
   ]
  },
  {
   "cell_type": "markdown",
   "metadata": {
    "slideshow": {
     "slide_type": "slide"
    }
   },
   "source": [
    "### <center> Working with Palmetto"
   ]
  },
  {
   "cell_type": "markdown",
   "metadata": {
    "slideshow": {
     "slide_type": "slide"
    }
   },
   "source": [
    "<center> <img src=\"pictures/02/palmetto-allocation.png\" width=\"500\"/>"
   ]
  },
  {
   "cell_type": "markdown",
   "metadata": {
    "slideshow": {
     "slide_type": "slide"
    }
   },
   "source": [
    "<center> <img src=\"pictures/02/palmetto-overall.png\" width=\"500\"/>"
   ]
  },
  {
   "cell_type": "markdown",
   "metadata": {
    "slideshow": {
     "slide_type": "slide"
    }
   },
   "source": [
    "** Node naming scheme **\n",
    "\n",
    "- Login node: login.palmetto.clemson.edu (seen as login001 internally)\n",
    "- *The login node is the only gateway to access Palmetto nodes from outside*\n",
    "- **DO NOT RUN ANYTHING ON THE LOGIN NODE**\n",
    "- File Management: xfer01-ext.palmetto.clemson.edu (only accessible once you are logged into Palmetto)\n",
    "- Compute nodes: nodeXXXX.palmetto.clemson.edu\n",
    "- From inside Palmetto, all nodes can be accessed via their shortened name (without the *.palmetto.clemson.edu* suffix)"
   ]
  },
  {
   "cell_type": "markdown",
   "metadata": {
    "slideshow": {
     "slide_type": "slide"
    }
   },
   "source": [
    "### <center> Requesting Resources from Palmetto"
   ]
  },
  {
   "cell_type": "markdown",
   "metadata": {
    "slideshow": {
     "slide_type": "slide"
    }
   },
   "source": [
    "- SSH into Palmetto: You are now on login001\n",
    "- Two modes to submit resource request:\n",
    "   - Interactive mode: `qsub -I - l [resource specification]`\n",
    "   - Batch mode: `qsub [PBS script containing resource specification and job description]`\n",
    "- Resource request can only be done from login001 and not from any other computing nodes"
   ]
  },
  {
   "cell_type": "markdown",
   "metadata": {
    "slideshow": {
     "slide_type": "slide"
    }
   },
   "source": [
    "Further reading on Palmetto resource request from command line:\n",
    "\n",
    "https://www.palmetto.clemson.edu/palmetto/pages/userguide.html#submitting"
   ]
  },
  {
   "cell_type": "markdown",
   "metadata": {
    "slideshow": {
     "slide_type": "slide"
    }
   },
   "source": [
    "### <center> Working with Palmetto under Batch Mode"
   ]
  },
  {
   "cell_type": "markdown",
   "metadata": {
    "slideshow": {
     "slide_type": "slide"
    }
   },
   "source": [
    "#### <center> `qsub [PBS script containing resource specification and job description]`"
   ]
  },
  {
   "cell_type": "markdown",
   "metadata": {
    "slideshow": {
     "slide_type": "slide"
    }
   },
   "source": [
    "- `qsub` can only be called from the headnode \n",
    "- SSH access from local machines\n",
    "- `ssh login001` from Jupyter terminal"
   ]
  },
  {
   "cell_type": "markdown",
   "metadata": {
    "slideshow": {
     "slide_type": "slide"
    }
   },
   "source": [
    "** PBS Script format **\n",
    "- Bash script by nature\n",
    "- Line starting with `#PBS` will be intepreted by the PBS scheduler\n",
    "- Line without `#PBS` will be executed as bash commands\n",
    "\n",
    "```\n",
    "#!/bin/bash\n",
    "#PBS -N cpsc4770\n",
    "#PBS -l select=1:ncpus=4:mpiprocs=4:mem=8gb\n",
    "#PBS -l walltime=00:50:00\n",
    "#PBS -j oe\n",
    "Program execution instructions go here ...\n",
    "```"
   ]
  },
  {
   "cell_type": "markdown",
   "metadata": {
    "slideshow": {
     "slide_type": "slide"
    }
   },
   "source": [
    "** PBS flags **\n",
    "\n",
    "- *-N*    (job name)\n",
    "- *-l*    (resource requests)\n",
    "- *-j oe* (configure PBS to merge output and error logs)"
   ]
  },
  {
   "cell_type": "markdown",
   "metadata": {
    "slideshow": {
     "slide_type": "slide"
    }
   },
   "source": [
    "**PBS environmental variables**\n",
    "\n",
    "- PBS_O_WORKDIR: Environment variable indicating the directory from which `qsub` was called\n",
    "- PBS_NODEFILE: Name of the file containing list of compute nodes allocated for the job\n",
    "- PBS_ARRAY_INDEX: Index of job launched as part of a PBS job array. "
   ]
  },
  {
   "cell_type": "markdown",
   "metadata": {
    "slideshow": {
     "slide_type": "slide"
    }
   },
   "source": [
    "** What happens after a job is submitted? **\n",
    "- After `qsub` is executed, you will see a job ID return to the command line\n",
    "- You can also view the status of your job via (from any node) `qstat -anu <yourusername>`\n",
    "- You can delete job (from head node only) using `qdel <job ID>` "
   ]
  },
  {
   "cell_type": "markdown",
   "metadata": {
    "slideshow": {
     "slide_type": "slide"
    }
   },
   "source": [
    "### <center> Connecting to Palmetto with Interactive Mode using Web Browser"
   ]
  },
  {
   "cell_type": "markdown",
   "metadata": {
    "slideshow": {
     "slide_type": "slide"
    }
   },
   "source": [
    "https://clemsonciti.github.io/jupyter-docs/documentation.html"
   ]
  },
  {
   "cell_type": "markdown",
   "metadata": {
    "slideshow": {
     "slide_type": "slide"
    }
   },
   "source": [
    "1) Log into Palmetto via JupyterHub interface"
   ]
  },
  {
   "cell_type": "markdown",
   "metadata": {
    "slideshow": {
     "slide_type": "slide"
    }
   },
   "source": [
    "2) Request (default parameters):\n",
    "    - 1 chunk\n",
    "    - 1 cpu core per chunk\n",
    "    - 1gb of memory per chunk\n",
    "    - no GPU\n",
    "    - 30 minutes walltime\n",
    "    - workq"
   ]
  },
  {
   "cell_type": "markdown",
   "metadata": {
    "slideshow": {
     "slide_type": "slide"
    }
   },
   "source": [
    "3) Via Jupyter, create a directory call cpsc4770-6770\n",
    "\n",
    "4) Inside **cpsc4770-6770**, use Jupyter's editor to create a file named *gethostname.py* containing the following lines: \n",
    "\n",
    "```python\n",
    "#gethostname.py\n",
    "import socket\n",
    "print (\"hello world from host %s\" % (socket.gethostname()))\n",
    "```\n",
    "\n",
    "5) Execute gethostname.py from the Jupyter terminal\n",
    "\n",
    "```\n",
    "python gethostname.py\n",
    "```\n",
    "\n",
    "6) Execute `qstat` and compare the outcome with results from gethostname.py\n",
    "\n",
    "```\n",
    "qstat -anu <username>\n",
    "```"
   ]
  },
  {
   "cell_type": "markdown",
   "metadata": {
    "slideshow": {
     "slide_type": "slide"
    }
   },
   "source": [
    "#### Create a PBS submission script that requests 4 chunk, 8 core per chunk, 8gb of ram per chunk, 2-minute walltime.\n",
    "\n",
    "#### Have this script executes the gethostname.py program\n",
    "\n",
    "#### View the PBS log file once the script is completed"
   ]
  }
 ],
 "metadata": {
  "celltoolbar": "Slideshow",
  "kernelspec": {
   "display_name": "Python 3",
   "language": "python",
   "name": "python3"
  },
  "language_info": {
   "codemirror_mode": {
    "name": "ipython",
    "version": 3
   },
   "file_extension": ".py",
   "mimetype": "text/x-python",
   "name": "python",
   "nbconvert_exporter": "python",
   "pygments_lexer": "ipython3",
   "version": "3.5.1"
  }
 },
 "nbformat": 4,
 "nbformat_minor": 1
}
